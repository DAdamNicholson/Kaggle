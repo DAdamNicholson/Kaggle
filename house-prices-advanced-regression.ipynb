{
 "cells": [
  {
   "cell_type": "markdown",
   "id": "67a97063",
   "metadata": {
    "papermill": {
     "duration": 0.019909,
     "end_time": "2023-02-24T17:01:11.379590",
     "exception": false,
     "start_time": "2023-02-24T17:01:11.359681",
     "status": "completed"
    },
    "tags": []
   },
   "source": [
    "# <b style=\"font-family:Roboto Condensed\"> Kaggle: House Prices- Advanced Regression Techniques"
   ]
  },
  {
   "cell_type": "code",
   "execution_count": 1,
   "id": "71116da4",
   "metadata": {
    "execution": {
     "iopub.execute_input": "2023-02-24T17:01:11.420622Z",
     "iopub.status.busy": "2023-02-24T17:01:11.420138Z",
     "iopub.status.idle": "2023-02-24T17:02:25.501577Z",
     "shell.execute_reply": "2023-02-24T17:02:25.500329Z"
    },
    "papermill": {
     "duration": 74.105866,
     "end_time": "2023-02-24T17:02:25.504448",
     "exception": false,
     "start_time": "2023-02-24T17:01:11.398582",
     "status": "completed"
    },
    "tags": []
   },
   "outputs": [
    {
     "name": "stdout",
     "output_type": "stream",
     "text": [
      "/bin/bash: /opt/conda/lib/libtinfo.so.6: no version information available (required by /bin/bash)\r\n",
      "\u001b[33m  WARNING: Requested plotly-resampler>=0.7.2.2 from https://files.pythonhosted.org/packages/d7/5e/71a9e34a36c1855d0c4e30a88405d58c4bbbe7ece802b188628a643f2cda/plotly_resampler-0.8.4rc1.tar.gz (from pycaret), but installing version 0.8.4rc1\u001b[0m\u001b[33m\r\n",
      "\u001b[0m\u001b[31mERROR: pip's dependency resolver does not currently take into account all the packages that are installed. This behaviour is the source of the following dependency conflicts.\r\n",
      "tensorboard 2.9.1 requires protobuf<3.20,>=3.9.2, but you have protobuf 3.20.3 which is incompatible.\r\n",
      "pandas-profiling 3.1.0 requires joblib~=1.0.1, but you have joblib 1.2.0 which is incompatible.\r\n",
      "pandas-profiling 3.1.0 requires markupsafe~=2.0.1, but you have markupsafe 2.1.2 which is incompatible.\u001b[0m\u001b[31m\r\n",
      "\u001b[0m\u001b[33mWARNING: Running pip as the 'root' user can result in broken permissions and conflicting behaviour with the system package manager. It is recommended to use a virtual environment instead: https://pip.pypa.io/warnings/venv\u001b[0m\u001b[33m\r\n",
      "\u001b[0m/bin/bash: /opt/conda/lib/libtinfo.so.6: no version information available (required by /bin/bash)\r\n",
      "\u001b[33mWARNING: Running pip as the 'root' user can result in broken permissions and conflicting behaviour with the system package manager. It is recommended to use a virtual environment instead: https://pip.pypa.io/warnings/venv\u001b[0m\u001b[33m\r\n",
      "\u001b[0m/bin/bash: /opt/conda/lib/libtinfo.so.6: no version information available (required by /bin/bash)\r\n",
      "\u001b[33mWARNING: Running pip as the 'root' user can result in broken permissions and conflicting behaviour with the system package manager. It is recommended to use a virtual environment instead: https://pip.pypa.io/warnings/venv\u001b[0m\u001b[33m\r\n",
      "\u001b[0m"
     ]
    }
   ],
   "source": [
    "# Uncomment if you need to install these packages\n",
    "!pip install -U --pre pycaret --quiet\n",
    "!pip install catboost --quiet\n",
    "!pip install optuna --quiet"
   ]
  },
  {
   "cell_type": "code",
   "execution_count": 2,
   "id": "43862d01",
   "metadata": {
    "execution": {
     "iopub.execute_input": "2023-02-24T17:02:25.543869Z",
     "iopub.status.busy": "2023-02-24T17:02:25.543402Z",
     "iopub.status.idle": "2023-02-24T17:02:33.385937Z",
     "shell.execute_reply": "2023-02-24T17:02:33.384764Z"
    },
    "papermill": {
     "duration": 7.865717,
     "end_time": "2023-02-24T17:02:33.388682",
     "exception": false,
     "start_time": "2023-02-24T17:02:25.522965",
     "status": "completed"
    },
    "tags": []
   },
   "outputs": [],
   "source": [
    "# Dependencies\n",
    "import pandas as pd\n",
    "import numpy as np\n",
    "import scipy.stats\n",
    "import matplotlib.pyplot as plt\n",
    "import seaborn as sns\n",
    "import pycaret\n",
    "import optuna\n",
    "#import lightgbm as lgb\n",
    "\n",
    "from sklearn.impute import KNNImputer\n",
    "from sklearn.preprocessing import StandardScaler\n",
    "from sklearn.model_selection import KFold, cross_val_score\n",
    "from pycaret.regression import setup, compare_models\n",
    "\n",
    "from catboost import CatBoostRegressor\n",
    "from sklearn.linear_model import BayesianRidge, Ridge, OrthogonalMatchingPursuit\n",
    "from sklearn.ensemble import GradientBoostingRegressor, RandomForestRegressor\n",
    "\n",
    "\n",
    "#sns.set_style('darkgrid')\n",
    "\n",
    "pd.set_option('display.max_rows', 500)\n",
    "pd.set_option('display.max_columns', 500)\n",
    "pd.set_option('display.width', 1000)"
   ]
  },
  {
   "cell_type": "markdown",
   "id": "91807088",
   "metadata": {
    "papermill": {
     "duration": 0.017653,
     "end_time": "2023-02-24T17:02:33.424597",
     "exception": false,
     "start_time": "2023-02-24T17:02:33.406944",
     "status": "completed"
    },
    "tags": []
   },
   "source": [
    "# Import the Data"
   ]
  },
  {
   "cell_type": "code",
   "execution_count": 3,
   "id": "07c845f2",
   "metadata": {
    "execution": {
     "iopub.execute_input": "2023-02-24T17:02:33.462795Z",
     "iopub.status.busy": "2023-02-24T17:02:33.462351Z",
     "iopub.status.idle": "2023-02-24T17:02:33.539867Z",
     "shell.execute_reply": "2023-02-24T17:02:33.538868Z"
    },
    "papermill": {
     "duration": 0.099928,
     "end_time": "2023-02-24T17:02:33.542574",
     "exception": false,
     "start_time": "2023-02-24T17:02:33.442646",
     "status": "completed"
    },
    "tags": []
   },
   "outputs": [],
   "source": [
    "train = pd.read_csv('/kaggle/input/house-prices-advanced-regression-techniques/train.csv')\n",
    "test = pd.read_csv('/kaggle/input/house-prices-advanced-regression-techniques/test.csv')"
   ]
  },
  {
   "cell_type": "code",
   "execution_count": 4,
   "id": "9a1c52d3",
   "metadata": {
    "execution": {
     "iopub.execute_input": "2023-02-24T17:02:33.581432Z",
     "iopub.status.busy": "2023-02-24T17:02:33.580290Z",
     "iopub.status.idle": "2023-02-24T17:02:33.592330Z",
     "shell.execute_reply": "2023-02-24T17:02:33.591289Z"
    },
    "papermill": {
     "duration": 0.034032,
     "end_time": "2023-02-24T17:02:33.594956",
     "exception": false,
     "start_time": "2023-02-24T17:02:33.560924",
     "status": "completed"
    },
    "tags": []
   },
   "outputs": [],
   "source": [
    "#Define the target (outcome)\n",
    "target = train['SalePrice']\n",
    "\n",
    "#Store the test IDs\n",
    "test_ids = test['Id']\n",
    "\n",
    "# Drop the IDs\n",
    "train = train.drop(['Id', 'SalePrice'], axis=1)\n",
    "test = test.drop('Id', axis=1)"
   ]
  },
  {
   "cell_type": "markdown",
   "id": "c3677d4f",
   "metadata": {
    "papermill": {
     "duration": 0.018304,
     "end_time": "2023-02-24T17:02:33.631910",
     "exception": false,
     "start_time": "2023-02-24T17:02:33.613606",
     "status": "completed"
    },
    "tags": []
   },
   "source": [
    "### Combine Data\n",
    "To get the most predictive power out of the data, we can combine our testing and training data and then split them back out later. "
   ]
  },
  {
   "cell_type": "code",
   "execution_count": 5,
   "id": "1e321a09",
   "metadata": {
    "execution": {
     "iopub.execute_input": "2023-02-24T17:02:33.670769Z",
     "iopub.status.busy": "2023-02-24T17:02:33.670331Z",
     "iopub.status.idle": "2023-02-24T17:02:33.700608Z",
     "shell.execute_reply": "2023-02-24T17:02:33.699406Z"
    },
    "papermill": {
     "duration": 0.05277,
     "end_time": "2023-02-24T17:02:33.703202",
     "exception": false,
     "start_time": "2023-02-24T17:02:33.650432",
     "status": "completed"
    },
    "tags": []
   },
   "outputs": [],
   "source": [
    "# Concatenate the dataframes vertically\n",
    "data = pd.concat([train, test], axis=0).reset_index(drop=True)"
   ]
  },
  {
   "cell_type": "code",
   "execution_count": 6,
   "id": "1beae4f1",
   "metadata": {
    "execution": {
     "iopub.execute_input": "2023-02-24T17:02:33.742290Z",
     "iopub.status.busy": "2023-02-24T17:02:33.741304Z",
     "iopub.status.idle": "2023-02-24T17:02:33.770310Z",
     "shell.execute_reply": "2023-02-24T17:02:33.769088Z"
    },
    "papermill": {
     "duration": 0.051268,
     "end_time": "2023-02-24T17:02:33.772935",
     "exception": false,
     "start_time": "2023-02-24T17:02:33.721667",
     "status": "completed"
    },
    "tags": []
   },
   "outputs": [
    {
     "name": "stdout",
     "output_type": "stream",
     "text": [
      "<class 'pandas.core.frame.DataFrame'>\n",
      "RangeIndex: 2919 entries, 0 to 2918\n",
      "Data columns (total 79 columns):\n",
      " #   Column         Non-Null Count  Dtype  \n",
      "---  ------         --------------  -----  \n",
      " 0   MSSubClass     2919 non-null   int64  \n",
      " 1   MSZoning       2915 non-null   object \n",
      " 2   LotFrontage    2433 non-null   float64\n",
      " 3   LotArea        2919 non-null   int64  \n",
      " 4   Street         2919 non-null   object \n",
      " 5   Alley          198 non-null    object \n",
      " 6   LotShape       2919 non-null   object \n",
      " 7   LandContour    2919 non-null   object \n",
      " 8   Utilities      2917 non-null   object \n",
      " 9   LotConfig      2919 non-null   object \n",
      " 10  LandSlope      2919 non-null   object \n",
      " 11  Neighborhood   2919 non-null   object \n",
      " 12  Condition1     2919 non-null   object \n",
      " 13  Condition2     2919 non-null   object \n",
      " 14  BldgType       2919 non-null   object \n",
      " 15  HouseStyle     2919 non-null   object \n",
      " 16  OverallQual    2919 non-null   int64  \n",
      " 17  OverallCond    2919 non-null   int64  \n",
      " 18  YearBuilt      2919 non-null   int64  \n",
      " 19  YearRemodAdd   2919 non-null   int64  \n",
      " 20  RoofStyle      2919 non-null   object \n",
      " 21  RoofMatl       2919 non-null   object \n",
      " 22  Exterior1st    2918 non-null   object \n",
      " 23  Exterior2nd    2918 non-null   object \n",
      " 24  MasVnrType     2895 non-null   object \n",
      " 25  MasVnrArea     2896 non-null   float64\n",
      " 26  ExterQual      2919 non-null   object \n",
      " 27  ExterCond      2919 non-null   object \n",
      " 28  Foundation     2919 non-null   object \n",
      " 29  BsmtQual       2838 non-null   object \n",
      " 30  BsmtCond       2837 non-null   object \n",
      " 31  BsmtExposure   2837 non-null   object \n",
      " 32  BsmtFinType1   2840 non-null   object \n",
      " 33  BsmtFinSF1     2918 non-null   float64\n",
      " 34  BsmtFinType2   2839 non-null   object \n",
      " 35  BsmtFinSF2     2918 non-null   float64\n",
      " 36  BsmtUnfSF      2918 non-null   float64\n",
      " 37  TotalBsmtSF    2918 non-null   float64\n",
      " 38  Heating        2919 non-null   object \n",
      " 39  HeatingQC      2919 non-null   object \n",
      " 40  CentralAir     2919 non-null   object \n",
      " 41  Electrical     2918 non-null   object \n",
      " 42  1stFlrSF       2919 non-null   int64  \n",
      " 43  2ndFlrSF       2919 non-null   int64  \n",
      " 44  LowQualFinSF   2919 non-null   int64  \n",
      " 45  GrLivArea      2919 non-null   int64  \n",
      " 46  BsmtFullBath   2917 non-null   float64\n",
      " 47  BsmtHalfBath   2917 non-null   float64\n",
      " 48  FullBath       2919 non-null   int64  \n",
      " 49  HalfBath       2919 non-null   int64  \n",
      " 50  BedroomAbvGr   2919 non-null   int64  \n",
      " 51  KitchenAbvGr   2919 non-null   int64  \n",
      " 52  KitchenQual    2918 non-null   object \n",
      " 53  TotRmsAbvGrd   2919 non-null   int64  \n",
      " 54  Functional     2917 non-null   object \n",
      " 55  Fireplaces     2919 non-null   int64  \n",
      " 56  FireplaceQu    1499 non-null   object \n",
      " 57  GarageType     2762 non-null   object \n",
      " 58  GarageYrBlt    2760 non-null   float64\n",
      " 59  GarageFinish   2760 non-null   object \n",
      " 60  GarageCars     2918 non-null   float64\n",
      " 61  GarageArea     2918 non-null   float64\n",
      " 62  GarageQual     2760 non-null   object \n",
      " 63  GarageCond     2760 non-null   object \n",
      " 64  PavedDrive     2919 non-null   object \n",
      " 65  WoodDeckSF     2919 non-null   int64  \n",
      " 66  OpenPorchSF    2919 non-null   int64  \n",
      " 67  EnclosedPorch  2919 non-null   int64  \n",
      " 68  3SsnPorch      2919 non-null   int64  \n",
      " 69  ScreenPorch    2919 non-null   int64  \n",
      " 70  PoolArea       2919 non-null   int64  \n",
      " 71  PoolQC         10 non-null     object \n",
      " 72  Fence          571 non-null    object \n",
      " 73  MiscFeature    105 non-null    object \n",
      " 74  MiscVal        2919 non-null   int64  \n",
      " 75  MoSold         2919 non-null   int64  \n",
      " 76  YrSold         2919 non-null   int64  \n",
      " 77  SaleType       2918 non-null   object \n",
      " 78  SaleCondition  2919 non-null   object \n",
      "dtypes: float64(11), int64(25), object(43)\n",
      "memory usage: 1.8+ MB\n"
     ]
    }
   ],
   "source": [
    "#List all variables and types\n",
    "data.info()"
   ]
  },
  {
   "cell_type": "markdown",
   "id": "1991c972",
   "metadata": {
    "papermill": {
     "duration": 0.018131,
     "end_time": "2023-02-24T17:02:33.810147",
     "exception": false,
     "start_time": "2023-02-24T17:02:33.792016",
     "status": "completed"
    },
    "tags": []
   },
   "source": [
    "The outcome of interest is the sale price"
   ]
  },
  {
   "cell_type": "code",
   "execution_count": 7,
   "id": "31424701",
   "metadata": {
    "execution": {
     "iopub.execute_input": "2023-02-24T17:02:33.850022Z",
     "iopub.status.busy": "2023-02-24T17:02:33.849348Z",
     "iopub.status.idle": "2023-02-24T17:02:33.856129Z",
     "shell.execute_reply": "2023-02-24T17:02:33.854832Z"
    },
    "papermill": {
     "duration": 0.030001,
     "end_time": "2023-02-24T17:02:33.858689",
     "exception": false,
     "start_time": "2023-02-24T17:02:33.828688",
     "status": "completed"
    },
    "tags": []
   },
   "outputs": [
    {
     "name": "stdout",
     "output_type": "stream",
     "text": [
      "Median sale price: 163000.0\n"
     ]
    }
   ],
   "source": [
    "print(\"Median sale price:\", target.median())"
   ]
  },
  {
   "cell_type": "code",
   "execution_count": 8,
   "id": "ce11ae17",
   "metadata": {
    "execution": {
     "iopub.execute_input": "2023-02-24T17:02:33.898253Z",
     "iopub.status.busy": "2023-02-24T17:02:33.897588Z",
     "iopub.status.idle": "2023-02-24T17:02:34.314302Z",
     "shell.execute_reply": "2023-02-24T17:02:34.313097Z"
    },
    "papermill": {
     "duration": 0.439518,
     "end_time": "2023-02-24T17:02:34.317050",
     "exception": false,
     "start_time": "2023-02-24T17:02:33.877532",
     "status": "completed"
    },
    "tags": []
   },
   "outputs": [
    {
     "data": {
      "text/plain": [
       "<AxesSubplot:xlabel='SalePrice', ylabel='Count'>"
      ]
     },
     "execution_count": 8,
     "metadata": {},
     "output_type": "execute_result"
    },
    {
     "data": {
      "image/png": "[encoded data removed]",
      "text/plain": [
       "<Figure size 800x550 with 1 Axes>"
      ]
     },
     "metadata": {},
     "output_type": "display_data"
    }
   ],
   "source": [
    "sns.histplot(target)"
   ]
  },
  {
   "cell_type": "markdown",
   "id": "8541eac4",
   "metadata": {
    "papermill": {
     "duration": 0.018863,
     "end_time": "2023-02-24T17:02:34.355144",
     "exception": false,
     "start_time": "2023-02-24T17:02:34.336281",
     "status": "completed"
    },
    "tags": []
   },
   "source": [
    "This gives us a reference for our predictions. If they are vastly different, we know something is wrong."
   ]
  },
  {
   "cell_type": "markdown",
   "id": "826246f7",
   "metadata": {
    "papermill": {
     "duration": 0.018812,
     "end_time": "2023-02-24T17:02:34.393795",
     "exception": false,
     "start_time": "2023-02-24T17:02:34.374983",
     "status": "completed"
    },
    "tags": []
   },
   "source": [
    "# Cleaning the Data"
   ]
  },
  {
   "cell_type": "markdown",
   "id": "2fbcf958",
   "metadata": {
    "papermill": {
     "duration": 0.019317,
     "end_time": "2023-02-24T17:02:34.432307",
     "exception": false,
     "start_time": "2023-02-24T17:02:34.412990",
     "status": "completed"
    },
    "tags": []
   },
   "source": [
    "## Check for Missing Data"
   ]
  },
  {
   "cell_type": "code",
   "execution_count": 9,
   "id": "25d427bc",
   "metadata": {
    "execution": {
     "iopub.execute_input": "2023-02-24T17:02:34.474897Z",
     "iopub.status.busy": "2023-02-24T17:02:34.473794Z",
     "iopub.status.idle": "2023-02-24T17:02:34.490630Z",
     "shell.execute_reply": "2023-02-24T17:02:34.489159Z"
    },
    "papermill": {
     "duration": 0.04119,
     "end_time": "2023-02-24T17:02:34.493157",
     "exception": false,
     "start_time": "2023-02-24T17:02:34.451967",
     "status": "completed"
    },
    "tags": []
   },
   "outputs": [
    {
     "name": "stdout",
     "output_type": "stream",
     "text": [
      "Columns with missing data:\n",
      "MSZoning           4\n",
      "LotFrontage      486\n",
      "Alley           2721\n",
      "Utilities          2\n",
      "Exterior1st        1\n",
      "Exterior2nd        1\n",
      "MasVnrType        24\n",
      "MasVnrArea        23\n",
      "BsmtQual          81\n",
      "BsmtCond          82\n",
      "BsmtExposure      82\n",
      "BsmtFinType1      79\n",
      "BsmtFinSF1         1\n",
      "BsmtFinType2      80\n",
      "BsmtFinSF2         1\n",
      "BsmtUnfSF          1\n",
      "TotalBsmtSF        1\n",
      "Electrical         1\n",
      "BsmtFullBath       2\n",
      "BsmtHalfBath       2\n",
      "KitchenQual        1\n",
      "Functional         2\n",
      "FireplaceQu     1420\n",
      "GarageType       157\n",
      "GarageYrBlt      159\n",
      "GarageFinish     159\n",
      "GarageCars         1\n",
      "GarageArea         1\n",
      "GarageQual       159\n",
      "GarageCond       159\n",
      "PoolQC          2909\n",
      "Fence           2348\n",
      "MiscFeature     2814\n",
      "SaleType           1\n",
      "dtype: int64\n"
     ]
    }
   ],
   "source": [
    "# Calculate the number of missing values in each column\n",
    "missing_counts = data.isna().sum()\n",
    "\n",
    "# Filter for columns with missing data\n",
    "missing_cols = missing_counts[missing_counts > 0]\n",
    "\n",
    "# Print the columns with missing data and their respective missing value counts\n",
    "print(\"Columns with missing data:\")\n",
    "print(missing_cols)\n"
   ]
  },
  {
   "cell_type": "markdown",
   "id": "3adfef99",
   "metadata": {
    "papermill": {
     "duration": 0.019451,
     "end_time": "2023-02-24T17:02:34.532167",
     "exception": false,
     "start_time": "2023-02-24T17:02:34.512716",
     "status": "completed"
    },
    "tags": []
   },
   "source": [
    "Looking at the list above, we need to determine which variables can be imputed and which variables aren't really missing, but maybe labeling in such a way.\n",
    "\n",
    "For many of these variables, the values aren't really missing, they just don't have the features. For example, NA on Alley means there's no alley access, not that the data is missing. We'll go through those and replace NA with 'None' to cleat that up."
   ]
  },
  {
   "cell_type": "code",
   "execution_count": 10,
   "id": "138c33d0",
   "metadata": {
    "execution": {
     "iopub.execute_input": "2023-02-24T17:02:34.573139Z",
     "iopub.status.busy": "2023-02-24T17:02:34.572719Z",
     "iopub.status.idle": "2023-02-24T17:02:34.588356Z",
     "shell.execute_reply": "2023-02-24T17:02:34.587063Z"
    },
    "papermill": {
     "duration": 0.039292,
     "end_time": "2023-02-24T17:02:34.591209",
     "exception": false,
     "start_time": "2023-02-24T17:02:34.551917",
     "status": "completed"
    },
    "tags": []
   },
   "outputs": [],
   "source": [
    "for v in ['Alley', 'MasVnrType', 'BsmtQual', 'BsmtCond', \n",
    "          'BsmtExposure','BsmtFinType1','BsmtFinType2', \n",
    "          'FireplaceQu', 'GarageType', 'GarageYrBlt',\n",
    "          'GarageFinish', 'GarageQual', 'GarageCond', \n",
    "          'PoolQC','Fence', 'MiscFeature']:\n",
    "    data[v].fillna('None', inplace=True)"
   ]
  },
  {
   "cell_type": "markdown",
   "id": "5ed8df45",
   "metadata": {
    "papermill": {
     "duration": 0.019017,
     "end_time": "2023-02-24T17:02:34.629984",
     "exception": false,
     "start_time": "2023-02-24T17:02:34.610967",
     "status": "completed"
    },
    "tags": []
   },
   "source": [
    "### Categorical missing\n",
    "For data missing from categorical variables, we can replace it with the modal (most common) value. "
   ]
  },
  {
   "cell_type": "code",
   "execution_count": 11,
   "id": "846af735",
   "metadata": {
    "execution": {
     "iopub.execute_input": "2023-02-24T17:02:34.670537Z",
     "iopub.status.busy": "2023-02-24T17:02:34.670106Z",
     "iopub.status.idle": "2023-02-24T17:02:34.686240Z",
     "shell.execute_reply": "2023-02-24T17:02:34.685236Z"
    },
    "papermill": {
     "duration": 0.039549,
     "end_time": "2023-02-24T17:02:34.688796",
     "exception": false,
     "start_time": "2023-02-24T17:02:34.649247",
     "status": "completed"
    },
    "tags": []
   },
   "outputs": [],
   "source": [
    "for v in [\n",
    "    'MSZoning',\n",
    "    'Utilities',\n",
    "    'Exterior1st',\n",
    "    'Exterior2nd',\n",
    "    'MasVnrType',\n",
    "    'Electrical',\n",
    "    'KitchenQual',\n",
    "    'Functional',\n",
    "    'SaleType'\n",
    "]:\n",
    "    data[v] = data[v].fillna(data[v].mode()[0])"
   ]
  },
  {
   "cell_type": "markdown",
   "id": "bb058fa5",
   "metadata": {
    "papermill": {
     "duration": 0.019745,
     "end_time": "2023-02-24T17:02:34.728503",
     "exception": false,
     "start_time": "2023-02-24T17:02:34.708758",
     "status": "completed"
    },
    "tags": []
   },
   "source": [
    "### Numeric missing\n",
    "\n",
    "You can impute based on the mean, but since we have so much data, we can use it to try and predict a better value to impute. \n",
    "\n",
    "One approach is to use K Nearest Neighbor imputation."
   ]
  },
  {
   "cell_type": "code",
   "execution_count": 12,
   "id": "a16f2438",
   "metadata": {
    "execution": {
     "iopub.execute_input": "2023-02-24T17:02:34.768546Z",
     "iopub.status.busy": "2023-02-24T17:02:34.768096Z",
     "iopub.status.idle": "2023-02-24T17:02:34.950349Z",
     "shell.execute_reply": "2023-02-24T17:02:34.949007Z"
    },
    "papermill": {
     "duration": 0.205401,
     "end_time": "2023-02-24T17:02:34.953071",
     "exception": false,
     "start_time": "2023-02-24T17:02:34.747670",
     "status": "completed"
    },
    "tags": []
   },
   "outputs": [],
   "source": [
    "imputer = KNNImputer(n_neighbors=5)\n",
    "\n",
    "for v in ['LotFrontage','BsmtFinSF1','BsmtFinSF2',\n",
    "          'BsmtUnfSF','TotalBsmtSF','BsmtFullBath',\n",
    "          'BsmtHalfBath','GarageCars','GarageArea',\n",
    "          'MasVnrArea']:\n",
    "    data[v] = imputer.fit_transform(data[[v]])"
   ]
  },
  {
   "cell_type": "markdown",
   "id": "a11d5ac8",
   "metadata": {
    "papermill": {
     "duration": 0.018833,
     "end_time": "2023-02-24T17:02:34.991278",
     "exception": false,
     "start_time": "2023-02-24T17:02:34.972445",
     "status": "completed"
    },
    "tags": []
   },
   "source": [
    "We can once again check for missing values:"
   ]
  },
  {
   "cell_type": "code",
   "execution_count": 13,
   "id": "974056b2",
   "metadata": {
    "execution": {
     "iopub.execute_input": "2023-02-24T17:02:35.032446Z",
     "iopub.status.busy": "2023-02-24T17:02:35.031385Z",
     "iopub.status.idle": "2023-02-24T17:02:35.046045Z",
     "shell.execute_reply": "2023-02-24T17:02:35.045112Z"
    },
    "papermill": {
     "duration": 0.03955,
     "end_time": "2023-02-24T17:02:35.050466",
     "exception": false,
     "start_time": "2023-02-24T17:02:35.010916",
     "status": "completed"
    },
    "tags": []
   },
   "outputs": [
    {
     "name": "stdout",
     "output_type": "stream",
     "text": [
      "Series([], dtype: int64)\n"
     ]
    }
   ],
   "source": [
    "missing_counts = data.isna().sum()\n",
    "missing_cols = missing_counts[missing_counts > 0]\n",
    "print(missing_cols)"
   ]
  },
  {
   "cell_type": "markdown",
   "id": "3e42b09f",
   "metadata": {
    "papermill": {
     "duration": 0.019479,
     "end_time": "2023-02-24T17:02:35.093624",
     "exception": false,
     "start_time": "2023-02-24T17:02:35.074145",
     "status": "completed"
    },
    "tags": []
   },
   "source": [
    "We see that no missing data remains. "
   ]
  },
  {
   "cell_type": "markdown",
   "id": "63d3f448",
   "metadata": {
    "papermill": {
     "duration": 0.019058,
     "end_time": "2023-02-24T17:02:35.132026",
     "exception": false,
     "start_time": "2023-02-24T17:02:35.112968",
     "status": "completed"
    },
    "tags": []
   },
   "source": [
    "## Check Variable Types"
   ]
  },
  {
   "cell_type": "code",
   "execution_count": 14,
   "id": "ee6958e3",
   "metadata": {
    "execution": {
     "iopub.execute_input": "2023-02-24T17:02:35.172383Z",
     "iopub.status.busy": "2023-02-24T17:02:35.171965Z",
     "iopub.status.idle": "2023-02-24T17:02:35.218888Z",
     "shell.execute_reply": "2023-02-24T17:02:35.217968Z"
    },
    "papermill": {
     "duration": 0.069506,
     "end_time": "2023-02-24T17:02:35.220986",
     "exception": false,
     "start_time": "2023-02-24T17:02:35.151480",
     "status": "completed"
    },
    "tags": []
   },
   "outputs": [
    {
     "data": {
      "text/html": [
       "<div>\n",
       "<style scoped>\n",
       "    .dataframe tbody tr th:only-of-type {\n",
       "        vertical-align: middle;\n",
       "    }\n",
       "\n",
       "    .dataframe tbody tr th {\n",
       "        vertical-align: top;\n",
       "    }\n",
       "\n",
       "    .dataframe thead th {\n",
       "        text-align: right;\n",
       "    }\n",
       "</style>\n",
       "<table border=\"1\" class=\"dataframe\">\n",
       "  <thead>\n",
       "    <tr style=\"text-align: right;\">\n",
       "      <th></th>\n",
       "      <th>MSSubClass</th>\n",
       "      <th>LotFrontage</th>\n",
       "      <th>LotArea</th>\n",
       "      <th>OverallQual</th>\n",
       "      <th>OverallCond</th>\n",
       "      <th>YearBuilt</th>\n",
       "      <th>YearRemodAdd</th>\n",
       "      <th>MasVnrArea</th>\n",
       "      <th>BsmtFinSF1</th>\n",
       "      <th>BsmtFinSF2</th>\n",
       "      <th>BsmtUnfSF</th>\n",
       "      <th>TotalBsmtSF</th>\n",
       "      <th>1stFlrSF</th>\n",
       "      <th>2ndFlrSF</th>\n",
       "      <th>LowQualFinSF</th>\n",
       "      <th>GrLivArea</th>\n",
       "      <th>BsmtFullBath</th>\n",
       "      <th>BsmtHalfBath</th>\n",
       "      <th>FullBath</th>\n",
       "      <th>HalfBath</th>\n",
       "      <th>BedroomAbvGr</th>\n",
       "      <th>KitchenAbvGr</th>\n",
       "      <th>TotRmsAbvGrd</th>\n",
       "      <th>Fireplaces</th>\n",
       "      <th>GarageCars</th>\n",
       "      <th>GarageArea</th>\n",
       "      <th>WoodDeckSF</th>\n",
       "      <th>OpenPorchSF</th>\n",
       "      <th>EnclosedPorch</th>\n",
       "      <th>3SsnPorch</th>\n",
       "      <th>ScreenPorch</th>\n",
       "      <th>PoolArea</th>\n",
       "      <th>MiscVal</th>\n",
       "      <th>MoSold</th>\n",
       "      <th>YrSold</th>\n",
       "    </tr>\n",
       "  </thead>\n",
       "  <tbody>\n",
       "    <tr>\n",
       "      <th>0</th>\n",
       "      <td>60</td>\n",
       "      <td>65.0</td>\n",
       "      <td>8450</td>\n",
       "      <td>7</td>\n",
       "      <td>5</td>\n",
       "      <td>2003</td>\n",
       "      <td>2003</td>\n",
       "      <td>196.0</td>\n",
       "      <td>706.0</td>\n",
       "      <td>0.0</td>\n",
       "      <td>150.0</td>\n",
       "      <td>856.0</td>\n",
       "      <td>856</td>\n",
       "      <td>854</td>\n",
       "      <td>0</td>\n",
       "      <td>1710</td>\n",
       "      <td>1.0</td>\n",
       "      <td>0.0</td>\n",
       "      <td>2</td>\n",
       "      <td>1</td>\n",
       "      <td>3</td>\n",
       "      <td>1</td>\n",
       "      <td>8</td>\n",
       "      <td>0</td>\n",
       "      <td>2.0</td>\n",
       "      <td>548.0</td>\n",
       "      <td>0</td>\n",
       "      <td>61</td>\n",
       "      <td>0</td>\n",
       "      <td>0</td>\n",
       "      <td>0</td>\n",
       "      <td>0</td>\n",
       "      <td>0</td>\n",
       "      <td>2</td>\n",
       "      <td>2008</td>\n",
       "    </tr>\n",
       "    <tr>\n",
       "      <th>1</th>\n",
       "      <td>20</td>\n",
       "      <td>80.0</td>\n",
       "      <td>9600</td>\n",
       "      <td>6</td>\n",
       "      <td>8</td>\n",
       "      <td>1976</td>\n",
       "      <td>1976</td>\n",
       "      <td>0.0</td>\n",
       "      <td>978.0</td>\n",
       "      <td>0.0</td>\n",
       "      <td>284.0</td>\n",
       "      <td>1262.0</td>\n",
       "      <td>1262</td>\n",
       "      <td>0</td>\n",
       "      <td>0</td>\n",
       "      <td>1262</td>\n",
       "      <td>0.0</td>\n",
       "      <td>1.0</td>\n",
       "      <td>2</td>\n",
       "      <td>0</td>\n",
       "      <td>3</td>\n",
       "      <td>1</td>\n",
       "      <td>6</td>\n",
       "      <td>1</td>\n",
       "      <td>2.0</td>\n",
       "      <td>460.0</td>\n",
       "      <td>298</td>\n",
       "      <td>0</td>\n",
       "      <td>0</td>\n",
       "      <td>0</td>\n",
       "      <td>0</td>\n",
       "      <td>0</td>\n",
       "      <td>0</td>\n",
       "      <td>5</td>\n",
       "      <td>2007</td>\n",
       "    </tr>\n",
       "    <tr>\n",
       "      <th>2</th>\n",
       "      <td>60</td>\n",
       "      <td>68.0</td>\n",
       "      <td>11250</td>\n",
       "      <td>7</td>\n",
       "      <td>5</td>\n",
       "      <td>2001</td>\n",
       "      <td>2002</td>\n",
       "      <td>162.0</td>\n",
       "      <td>486.0</td>\n",
       "      <td>0.0</td>\n",
       "      <td>434.0</td>\n",
       "      <td>920.0</td>\n",
       "      <td>920</td>\n",
       "      <td>866</td>\n",
       "      <td>0</td>\n",
       "      <td>1786</td>\n",
       "      <td>1.0</td>\n",
       "      <td>0.0</td>\n",
       "      <td>2</td>\n",
       "      <td>1</td>\n",
       "      <td>3</td>\n",
       "      <td>1</td>\n",
       "      <td>6</td>\n",
       "      <td>1</td>\n",
       "      <td>2.0</td>\n",
       "      <td>608.0</td>\n",
       "      <td>0</td>\n",
       "      <td>42</td>\n",
       "      <td>0</td>\n",
       "      <td>0</td>\n",
       "      <td>0</td>\n",
       "      <td>0</td>\n",
       "      <td>0</td>\n",
       "      <td>9</td>\n",
       "      <td>2008</td>\n",
       "    </tr>\n",
       "    <tr>\n",
       "      <th>3</th>\n",
       "      <td>70</td>\n",
       "      <td>60.0</td>\n",
       "      <td>9550</td>\n",
       "      <td>7</td>\n",
       "      <td>5</td>\n",
       "      <td>1915</td>\n",
       "      <td>1970</td>\n",
       "      <td>0.0</td>\n",
       "      <td>216.0</td>\n",
       "      <td>0.0</td>\n",
       "      <td>540.0</td>\n",
       "      <td>756.0</td>\n",
       "      <td>961</td>\n",
       "      <td>756</td>\n",
       "      <td>0</td>\n",
       "      <td>1717</td>\n",
       "      <td>1.0</td>\n",
       "      <td>0.0</td>\n",
       "      <td>1</td>\n",
       "      <td>0</td>\n",
       "      <td>3</td>\n",
       "      <td>1</td>\n",
       "      <td>7</td>\n",
       "      <td>1</td>\n",
       "      <td>3.0</td>\n",
       "      <td>642.0</td>\n",
       "      <td>0</td>\n",
       "      <td>35</td>\n",
       "      <td>272</td>\n",
       "      <td>0</td>\n",
       "      <td>0</td>\n",
       "      <td>0</td>\n",
       "      <td>0</td>\n",
       "      <td>2</td>\n",
       "      <td>2006</td>\n",
       "    </tr>\n",
       "    <tr>\n",
       "      <th>4</th>\n",
       "      <td>60</td>\n",
       "      <td>84.0</td>\n",
       "      <td>14260</td>\n",
       "      <td>8</td>\n",
       "      <td>5</td>\n",
       "      <td>2000</td>\n",
       "      <td>2000</td>\n",
       "      <td>350.0</td>\n",
       "      <td>655.0</td>\n",
       "      <td>0.0</td>\n",
       "      <td>490.0</td>\n",
       "      <td>1145.0</td>\n",
       "      <td>1145</td>\n",
       "      <td>1053</td>\n",
       "      <td>0</td>\n",
       "      <td>2198</td>\n",
       "      <td>1.0</td>\n",
       "      <td>0.0</td>\n",
       "      <td>2</td>\n",
       "      <td>1</td>\n",
       "      <td>4</td>\n",
       "      <td>1</td>\n",
       "      <td>9</td>\n",
       "      <td>1</td>\n",
       "      <td>3.0</td>\n",
       "      <td>836.0</td>\n",
       "      <td>192</td>\n",
       "      <td>84</td>\n",
       "      <td>0</td>\n",
       "      <td>0</td>\n",
       "      <td>0</td>\n",
       "      <td>0</td>\n",
       "      <td>0</td>\n",
       "      <td>12</td>\n",
       "      <td>2008</td>\n",
       "    </tr>\n",
       "    <tr>\n",
       "      <th>...</th>\n",
       "      <td>...</td>\n",
       "      <td>...</td>\n",
       "      <td>...</td>\n",
       "      <td>...</td>\n",
       "      <td>...</td>\n",
       "      <td>...</td>\n",
       "      <td>...</td>\n",
       "      <td>...</td>\n",
       "      <td>...</td>\n",
       "      <td>...</td>\n",
       "      <td>...</td>\n",
       "      <td>...</td>\n",
       "      <td>...</td>\n",
       "      <td>...</td>\n",
       "      <td>...</td>\n",
       "      <td>...</td>\n",
       "      <td>...</td>\n",
       "      <td>...</td>\n",
       "      <td>...</td>\n",
       "      <td>...</td>\n",
       "      <td>...</td>\n",
       "      <td>...</td>\n",
       "      <td>...</td>\n",
       "      <td>...</td>\n",
       "      <td>...</td>\n",
       "      <td>...</td>\n",
       "      <td>...</td>\n",
       "      <td>...</td>\n",
       "      <td>...</td>\n",
       "      <td>...</td>\n",
       "      <td>...</td>\n",
       "      <td>...</td>\n",
       "      <td>...</td>\n",
       "      <td>...</td>\n",
       "      <td>...</td>\n",
       "    </tr>\n",
       "    <tr>\n",
       "      <th>2914</th>\n",
       "      <td>160</td>\n",
       "      <td>21.0</td>\n",
       "      <td>1936</td>\n",
       "      <td>4</td>\n",
       "      <td>7</td>\n",
       "      <td>1970</td>\n",
       "      <td>1970</td>\n",
       "      <td>0.0</td>\n",
       "      <td>0.0</td>\n",
       "      <td>0.0</td>\n",
       "      <td>546.0</td>\n",
       "      <td>546.0</td>\n",
       "      <td>546</td>\n",
       "      <td>546</td>\n",
       "      <td>0</td>\n",
       "      <td>1092</td>\n",
       "      <td>0.0</td>\n",
       "      <td>0.0</td>\n",
       "      <td>1</td>\n",
       "      <td>1</td>\n",
       "      <td>3</td>\n",
       "      <td>1</td>\n",
       "      <td>5</td>\n",
       "      <td>0</td>\n",
       "      <td>0.0</td>\n",
       "      <td>0.0</td>\n",
       "      <td>0</td>\n",
       "      <td>0</td>\n",
       "      <td>0</td>\n",
       "      <td>0</td>\n",
       "      <td>0</td>\n",
       "      <td>0</td>\n",
       "      <td>0</td>\n",
       "      <td>6</td>\n",
       "      <td>2006</td>\n",
       "    </tr>\n",
       "    <tr>\n",
       "      <th>2915</th>\n",
       "      <td>160</td>\n",
       "      <td>21.0</td>\n",
       "      <td>1894</td>\n",
       "      <td>4</td>\n",
       "      <td>5</td>\n",
       "      <td>1970</td>\n",
       "      <td>1970</td>\n",
       "      <td>0.0</td>\n",
       "      <td>252.0</td>\n",
       "      <td>0.0</td>\n",
       "      <td>294.0</td>\n",
       "      <td>546.0</td>\n",
       "      <td>546</td>\n",
       "      <td>546</td>\n",
       "      <td>0</td>\n",
       "      <td>1092</td>\n",
       "      <td>0.0</td>\n",
       "      <td>0.0</td>\n",
       "      <td>1</td>\n",
       "      <td>1</td>\n",
       "      <td>3</td>\n",
       "      <td>1</td>\n",
       "      <td>6</td>\n",
       "      <td>0</td>\n",
       "      <td>1.0</td>\n",
       "      <td>286.0</td>\n",
       "      <td>0</td>\n",
       "      <td>24</td>\n",
       "      <td>0</td>\n",
       "      <td>0</td>\n",
       "      <td>0</td>\n",
       "      <td>0</td>\n",
       "      <td>0</td>\n",
       "      <td>4</td>\n",
       "      <td>2006</td>\n",
       "    </tr>\n",
       "    <tr>\n",
       "      <th>2916</th>\n",
       "      <td>20</td>\n",
       "      <td>160.0</td>\n",
       "      <td>20000</td>\n",
       "      <td>5</td>\n",
       "      <td>7</td>\n",
       "      <td>1960</td>\n",
       "      <td>1996</td>\n",
       "      <td>0.0</td>\n",
       "      <td>1224.0</td>\n",
       "      <td>0.0</td>\n",
       "      <td>0.0</td>\n",
       "      <td>1224.0</td>\n",
       "      <td>1224</td>\n",
       "      <td>0</td>\n",
       "      <td>0</td>\n",
       "      <td>1224</td>\n",
       "      <td>1.0</td>\n",
       "      <td>0.0</td>\n",
       "      <td>1</td>\n",
       "      <td>0</td>\n",
       "      <td>4</td>\n",
       "      <td>1</td>\n",
       "      <td>7</td>\n",
       "      <td>1</td>\n",
       "      <td>2.0</td>\n",
       "      <td>576.0</td>\n",
       "      <td>474</td>\n",
       "      <td>0</td>\n",
       "      <td>0</td>\n",
       "      <td>0</td>\n",
       "      <td>0</td>\n",
       "      <td>0</td>\n",
       "      <td>0</td>\n",
       "      <td>9</td>\n",
       "      <td>2006</td>\n",
       "    </tr>\n",
       "    <tr>\n",
       "      <th>2917</th>\n",
       "      <td>85</td>\n",
       "      <td>62.0</td>\n",
       "      <td>10441</td>\n",
       "      <td>5</td>\n",
       "      <td>5</td>\n",
       "      <td>1992</td>\n",
       "      <td>1992</td>\n",
       "      <td>0.0</td>\n",
       "      <td>337.0</td>\n",
       "      <td>0.0</td>\n",
       "      <td>575.0</td>\n",
       "      <td>912.0</td>\n",
       "      <td>970</td>\n",
       "      <td>0</td>\n",
       "      <td>0</td>\n",
       "      <td>970</td>\n",
       "      <td>0.0</td>\n",
       "      <td>1.0</td>\n",
       "      <td>1</td>\n",
       "      <td>0</td>\n",
       "      <td>3</td>\n",
       "      <td>1</td>\n",
       "      <td>6</td>\n",
       "      <td>0</td>\n",
       "      <td>0.0</td>\n",
       "      <td>0.0</td>\n",
       "      <td>80</td>\n",
       "      <td>32</td>\n",
       "      <td>0</td>\n",
       "      <td>0</td>\n",
       "      <td>0</td>\n",
       "      <td>0</td>\n",
       "      <td>700</td>\n",
       "      <td>7</td>\n",
       "      <td>2006</td>\n",
       "    </tr>\n",
       "    <tr>\n",
       "      <th>2918</th>\n",
       "      <td>60</td>\n",
       "      <td>74.0</td>\n",
       "      <td>9627</td>\n",
       "      <td>7</td>\n",
       "      <td>5</td>\n",
       "      <td>1993</td>\n",
       "      <td>1994</td>\n",
       "      <td>94.0</td>\n",
       "      <td>758.0</td>\n",
       "      <td>0.0</td>\n",
       "      <td>238.0</td>\n",
       "      <td>996.0</td>\n",
       "      <td>996</td>\n",
       "      <td>1004</td>\n",
       "      <td>0</td>\n",
       "      <td>2000</td>\n",
       "      <td>0.0</td>\n",
       "      <td>0.0</td>\n",
       "      <td>2</td>\n",
       "      <td>1</td>\n",
       "      <td>3</td>\n",
       "      <td>1</td>\n",
       "      <td>9</td>\n",
       "      <td>1</td>\n",
       "      <td>3.0</td>\n",
       "      <td>650.0</td>\n",
       "      <td>190</td>\n",
       "      <td>48</td>\n",
       "      <td>0</td>\n",
       "      <td>0</td>\n",
       "      <td>0</td>\n",
       "      <td>0</td>\n",
       "      <td>0</td>\n",
       "      <td>11</td>\n",
       "      <td>2006</td>\n",
       "    </tr>\n",
       "  </tbody>\n",
       "</table>\n",
       "<p>2919 rows × 35 columns</p>\n",
       "</div>"
      ],
      "text/plain": [
       "      MSSubClass  LotFrontage  LotArea  OverallQual  OverallCond  YearBuilt  YearRemodAdd  MasVnrArea  BsmtFinSF1  BsmtFinSF2  BsmtUnfSF  TotalBsmtSF  1stFlrSF  2ndFlrSF  LowQualFinSF  GrLivArea  BsmtFullBath  BsmtHalfBath  FullBath  HalfBath  BedroomAbvGr  KitchenAbvGr  TotRmsAbvGrd  Fireplaces  GarageCars  GarageArea  WoodDeckSF  OpenPorchSF  EnclosedPorch  3SsnPorch  ScreenPorch  PoolArea  MiscVal  MoSold  YrSold\n",
       "0             60         65.0     8450            7            5       2003          2003       196.0       706.0         0.0      150.0        856.0       856       854             0       1710           1.0           0.0         2         1             3             1             8           0         2.0       548.0           0           61              0          0            0         0        0       2    2008\n",
       "1             20         80.0     9600            6            8       1976          1976         0.0       978.0         0.0      284.0       1262.0      1262         0             0       1262           0.0           1.0         2         0             3             1             6           1         2.0       460.0         298            0              0          0            0         0        0       5    2007\n",
       "2             60         68.0    11250            7            5       2001          2002       162.0       486.0         0.0      434.0        920.0       920       866             0       1786           1.0           0.0         2         1             3             1             6           1         2.0       608.0           0           42              0          0            0         0        0       9    2008\n",
       "3             70         60.0     9550            7            5       1915          1970         0.0       216.0         0.0      540.0        756.0       961       756             0       1717           1.0           0.0         1         0             3             1             7           1         3.0       642.0           0           35            272          0            0         0        0       2    2006\n",
       "4             60         84.0    14260            8            5       2000          2000       350.0       655.0         0.0      490.0       1145.0      1145      1053             0       2198           1.0           0.0         2         1             4             1             9           1         3.0       836.0         192           84              0          0            0         0        0      12    2008\n",
       "...          ...          ...      ...          ...          ...        ...           ...         ...         ...         ...        ...          ...       ...       ...           ...        ...           ...           ...       ...       ...           ...           ...           ...         ...         ...         ...         ...          ...            ...        ...          ...       ...      ...     ...     ...\n",
       "2914         160         21.0     1936            4            7       1970          1970         0.0         0.0         0.0      546.0        546.0       546       546             0       1092           0.0           0.0         1         1             3             1             5           0         0.0         0.0           0            0              0          0            0         0        0       6    2006\n",
       "2915         160         21.0     1894            4            5       1970          1970         0.0       252.0         0.0      294.0        546.0       546       546             0       1092           0.0           0.0         1         1             3             1             6           0         1.0       286.0           0           24              0          0            0         0        0       4    2006\n",
       "2916          20        160.0    20000            5            7       1960          1996         0.0      1224.0         0.0        0.0       1224.0      1224         0             0       1224           1.0           0.0         1         0             4             1             7           1         2.0       576.0         474            0              0          0            0         0        0       9    2006\n",
       "2917          85         62.0    10441            5            5       1992          1992         0.0       337.0         0.0      575.0        912.0       970         0             0        970           0.0           1.0         1         0             3             1             6           0         0.0         0.0          80           32              0          0            0         0      700       7    2006\n",
       "2918          60         74.0     9627            7            5       1993          1994        94.0       758.0         0.0      238.0        996.0       996      1004             0       2000           0.0           0.0         2         1             3             1             9           1         3.0       650.0         190           48              0          0            0         0        0      11    2006\n",
       "\n",
       "[2919 rows x 35 columns]"
      ]
     },
     "execution_count": 14,
     "metadata": {},
     "output_type": "execute_result"
    }
   ],
   "source": [
    "data.select_dtypes(np.number)"
   ]
  },
  {
   "cell_type": "markdown",
   "id": "48b059d7",
   "metadata": {
    "papermill": {
     "duration": 0.019853,
     "end_time": "2023-02-24T17:02:35.260847",
     "exception": false,
     "start_time": "2023-02-24T17:02:35.240994",
     "status": "completed"
    },
    "tags": []
   },
   "source": [
    "MSSubClass is actually categorical and not a numeric, so we need to change that."
   ]
  },
  {
   "cell_type": "code",
   "execution_count": 15,
   "id": "06541200",
   "metadata": {
    "execution": {
     "iopub.execute_input": "2023-02-24T17:02:35.303423Z",
     "iopub.status.busy": "2023-02-24T17:02:35.302925Z",
     "iopub.status.idle": "2023-02-24T17:02:35.311969Z",
     "shell.execute_reply": "2023-02-24T17:02:35.310733Z"
    },
    "papermill": {
     "duration": 0.033267,
     "end_time": "2023-02-24T17:02:35.314590",
     "exception": false,
     "start_time": "2023-02-24T17:02:35.281323",
     "status": "completed"
    },
    "tags": []
   },
   "outputs": [],
   "source": [
    "data['MSSubClass']=data['MSSubClass'].astype(str)"
   ]
  },
  {
   "cell_type": "markdown",
   "id": "3e9e04b7",
   "metadata": {
    "papermill": {
     "duration": 0.020147,
     "end_time": "2023-02-24T17:02:35.354995",
     "exception": false,
     "start_time": "2023-02-24T17:02:35.334848",
     "status": "completed"
    },
    "tags": []
   },
   "source": [
    "# Feature Engineering"
   ]
  },
  {
   "cell_type": "markdown",
   "id": "dc3380b3",
   "metadata": {
    "papermill": {
     "duration": 0.02035,
     "end_time": "2023-02-24T17:02:35.396276",
     "exception": false,
     "start_time": "2023-02-24T17:02:35.375926",
     "status": "completed"
    },
    "tags": []
   },
   "source": [
    "We know that home sales are very seasonal. We have a variable for month sold, so we can bring in some outside data to give us move information about the seller premium during certain months. \n",
    "\n",
    "Here, I've used <a href=\"https://www.attomdata.com/news/market-trends/home-sales-prices/attom-2022-best-days-to-sell-a-home-analysis/\"> a report from ATTOM.</a>"
   ]
  },
  {
   "cell_type": "code",
   "execution_count": 16,
   "id": "c2cb7413",
   "metadata": {
    "execution": {
     "iopub.execute_input": "2023-02-24T17:02:35.439934Z",
     "iopub.status.busy": "2023-02-24T17:02:35.439471Z",
     "iopub.status.idle": "2023-02-24T17:02:35.445366Z",
     "shell.execute_reply": "2023-02-24T17:02:35.444075Z"
    },
    "papermill": {
     "duration": 0.030819,
     "end_time": "2023-02-24T17:02:35.447981",
     "exception": false,
     "start_time": "2023-02-24T17:02:35.417162",
     "status": "completed"
    },
    "tags": []
   },
   "outputs": [],
   "source": [
    "# # Define the data as a list of dictionaries\n",
    "# data2 = [\n",
    "#         {'Month': 5, 'SellerPremium': 0.126},\n",
    "#         {'Month': 6, 'SellerPremium': 0.107},\n",
    "#         {'Month': 7, 'SellerPremium': 0.1},\n",
    "#         {'Month': 4, 'SellerPremium': 0.092},\n",
    "#         {'Month': 3, 'SellerPremium': 0.089},\n",
    "#         {'Month': 9, 'SellerPremium': 0.079},\n",
    "#         {'Month': 2, 'SellerPremium': 0.079},\n",
    "#         {'Month': 8, 'SellerPremium': 0.079},\n",
    "#         {'Month': 12, 'SellerPremium': 0.063},\n",
    "#         {'Month': 1, 'SellerPremium': 0.062},\n",
    "#         {'Month': 11, 'SellerPremium': 0.061},\n",
    "#         {'Month': 10, 'SellerPremium': 0.052}]\n",
    "\n",
    "# # Create the dataframe\n",
    "# premiums = pd.DataFrame(data2)\n",
    "\n",
    "# # Print the resulting dataframe\n",
    "# print(premiums)"
   ]
  },
  {
   "cell_type": "code",
   "execution_count": 17,
   "id": "c1726f48",
   "metadata": {
    "execution": {
     "iopub.execute_input": "2023-02-24T17:02:35.491949Z",
     "iopub.status.busy": "2023-02-24T17:02:35.490495Z",
     "iopub.status.idle": "2023-02-24T17:02:35.495604Z",
     "shell.execute_reply": "2023-02-24T17:02:35.494609Z"
    },
    "papermill": {
     "duration": 0.030278,
     "end_time": "2023-02-24T17:02:35.498926",
     "exception": false,
     "start_time": "2023-02-24T17:02:35.468648",
     "status": "completed"
    },
    "tags": []
   },
   "outputs": [],
   "source": [
    "# # merge the dataframes on the 'Month' and 'MoSold' columns\n",
    "# data = pd.merge(data, premiums, left_on='MoSold', right_on='Month', how='left')\n",
    "\n",
    "# # drop the 'Month' column as it is no longer needed\n",
    "# data.drop('Month', axis=1, inplace=True)"
   ]
  },
  {
   "cell_type": "markdown",
   "id": "713f5375",
   "metadata": {
    "papermill": {
     "duration": 0.019946,
     "end_time": "2023-02-24T17:02:35.539882",
     "exception": false,
     "start_time": "2023-02-24T17:02:35.519936",
     "status": "completed"
    },
    "tags": []
   },
   "source": [
    "Because I think the correlation code is a little clunky, I wrote my own custom function, seen below:"
   ]
  },
  {
   "cell_type": "code",
   "execution_count": 18,
   "id": "debc3bdd",
   "metadata": {
    "execution": {
     "iopub.execute_input": "2023-02-24T17:02:35.583065Z",
     "iopub.status.busy": "2023-02-24T17:02:35.582615Z",
     "iopub.status.idle": "2023-02-24T17:02:35.587893Z",
     "shell.execute_reply": "2023-02-24T17:02:35.586470Z"
    },
    "papermill": {
     "duration": 0.029611,
     "end_time": "2023-02-24T17:02:35.590600",
     "exception": false,
     "start_time": "2023-02-24T17:02:35.560989",
     "status": "completed"
    },
    "tags": []
   },
   "outputs": [],
   "source": [
    "# ### Custom correlation function\n",
    "# def corr(df, col1, col2):\n",
    "#     corr_coef = df[col1].corr(df[col2])\n",
    "#     print(f\"Correlation between {col1} and {col2}: {corr_coef:.2f}\")"
   ]
  },
  {
   "cell_type": "code",
   "execution_count": 19,
   "id": "fcf7aca9",
   "metadata": {
    "execution": {
     "iopub.execute_input": "2023-02-24T17:02:35.634718Z",
     "iopub.status.busy": "2023-02-24T17:02:35.634257Z",
     "iopub.status.idle": "2023-02-24T17:02:35.639477Z",
     "shell.execute_reply": "2023-02-24T17:02:35.638196Z"
    },
    "papermill": {
     "duration": 0.030206,
     "end_time": "2023-02-24T17:02:35.641799",
     "exception": false,
     "start_time": "2023-02-24T17:02:35.611593",
     "status": "completed"
    },
    "tags": []
   },
   "outputs": [],
   "source": [
    "# corr(data, 'MoSold','SellerPremium')"
   ]
  },
  {
   "cell_type": "markdown",
   "id": "04b11992",
   "metadata": {
    "papermill": {
     "duration": 0.020178,
     "end_time": "2023-02-24T17:02:35.682209",
     "exception": false,
     "start_time": "2023-02-24T17:02:35.662031",
     "status": "completed"
    },
    "tags": []
   },
   "source": [
    "# Feature Transformations"
   ]
  },
  {
   "cell_type": "markdown",
   "id": "f8539f46",
   "metadata": {
    "papermill": {
     "duration": 0.021194,
     "end_time": "2023-02-24T17:02:35.723642",
     "exception": false,
     "start_time": "2023-02-24T17:02:35.702448",
     "status": "completed"
    },
    "tags": []
   },
   "source": [
    "If any of our numeric variables are not normally distributed, we can transform them to produce better results."
   ]
  },
  {
   "cell_type": "code",
   "execution_count": 20,
   "id": "88b848aa",
   "metadata": {
    "execution": {
     "iopub.execute_input": "2023-02-24T17:02:35.767423Z",
     "iopub.status.busy": "2023-02-24T17:02:35.766663Z",
     "iopub.status.idle": "2023-02-24T17:02:35.778392Z",
     "shell.execute_reply": "2023-02-24T17:02:35.777483Z"
    },
    "papermill": {
     "duration": 0.035695,
     "end_time": "2023-02-24T17:02:35.780647",
     "exception": false,
     "start_time": "2023-02-24T17:02:35.744952",
     "status": "completed"
    },
    "tags": []
   },
   "outputs": [
    {
     "data": {
      "text/plain": [
       "Index(['LotFrontage', 'LotArea', 'OverallQual', 'OverallCond', 'YearBuilt', 'YearRemodAdd', 'MasVnrArea', 'BsmtFinSF1', 'BsmtFinSF2', 'BsmtUnfSF', 'TotalBsmtSF', '1stFlrSF', '2ndFlrSF', 'LowQualFinSF', 'GrLivArea', 'BsmtFullBath', 'BsmtHalfBath', 'FullBath', 'HalfBath', 'BedroomAbvGr', 'KitchenAbvGr', 'TotRmsAbvGrd', 'Fireplaces', 'GarageCars', 'GarageArea', 'WoodDeckSF', 'OpenPorchSF', 'EnclosedPorch', '3SsnPorch', 'ScreenPorch', 'PoolArea', 'MiscVal', 'MoSold', 'YrSold'], dtype='object')"
      ]
     },
     "execution_count": 20,
     "metadata": {},
     "output_type": "execute_result"
    }
   ],
   "source": [
    "# Display numeric variables\n",
    "data.select_dtypes(np.number).columns"
   ]
  },
  {
   "cell_type": "code",
   "execution_count": 21,
   "id": "48e136b1",
   "metadata": {
    "execution": {
     "iopub.execute_input": "2023-02-24T17:02:35.824508Z",
     "iopub.status.busy": "2023-02-24T17:02:35.823694Z",
     "iopub.status.idle": "2023-02-24T17:02:35.830533Z",
     "shell.execute_reply": "2023-02-24T17:02:35.829756Z"
    },
    "papermill": {
     "duration": 0.031839,
     "end_time": "2023-02-24T17:02:35.832740",
     "exception": false,
     "start_time": "2023-02-24T17:02:35.800901",
     "status": "completed"
    },
    "tags": []
   },
   "outputs": [
    {
     "data": {
      "text/plain": [
       "1.6455737855221888"
      ]
     },
     "execution_count": 21,
     "metadata": {},
     "output_type": "execute_result"
    }
   ],
   "source": [
    "scipy.stats.skew(data['LotFrontage'])"
   ]
  },
  {
   "cell_type": "markdown",
   "id": "70913bf5",
   "metadata": {
    "papermill": {
     "duration": 0.01994,
     "end_time": "2023-02-24T17:02:35.873171",
     "exception": false,
     "start_time": "2023-02-24T17:02:35.853231",
     "status": "completed"
    },
    "tags": []
   },
   "source": [
    "When assessing skew, we want a value betweem -0.05 and 0.05. Zero skew (0) is perfectly symetrical. "
   ]
  },
  {
   "cell_type": "code",
   "execution_count": 22,
   "id": "97d094d2",
   "metadata": {
    "execution": {
     "iopub.execute_input": "2023-02-24T17:02:35.916425Z",
     "iopub.status.busy": "2023-02-24T17:02:35.915976Z",
     "iopub.status.idle": "2023-02-24T17:02:36.233644Z",
     "shell.execute_reply": "2023-02-24T17:02:36.232221Z"
    },
    "papermill": {
     "duration": 0.342908,
     "end_time": "2023-02-24T17:02:36.236439",
     "exception": false,
     "start_time": "2023-02-24T17:02:35.893531",
     "status": "completed"
    },
    "tags": []
   },
   "outputs": [
    {
     "data": {
      "image/png": "[encoded data removed]",
      "text/plain": [
       "<Figure size 800x550 with 1 Axes>"
      ]
     },
     "metadata": {},
     "output_type": "display_data"
    }
   ],
   "source": [
    "plt.hist(data['LotFrontage'], bins=50)\n",
    "plt.show()"
   ]
  },
  {
   "cell_type": "markdown",
   "id": "aee0781c",
   "metadata": {
    "papermill": {
     "duration": 0.02068,
     "end_time": "2023-02-24T17:02:36.280294",
     "exception": false,
     "start_time": "2023-02-24T17:02:36.259614",
     "status": "completed"
    },
    "tags": []
   },
   "source": [
    "In the histogram above, we can see the tail in the right side, indicating positive skew. "
   ]
  },
  {
   "cell_type": "markdown",
   "id": "34d6b45f",
   "metadata": {
    "papermill": {
     "duration": 0.020706,
     "end_time": "2023-02-24T17:02:36.321607",
     "exception": false,
     "start_time": "2023-02-24T17:02:36.300901",
     "status": "completed"
    },
    "tags": []
   },
   "source": [
    "We want to identify all the numeric variables with skew, so we can transform them."
   ]
  },
  {
   "cell_type": "code",
   "execution_count": 23,
   "id": "90416c8c",
   "metadata": {
    "execution": {
     "iopub.execute_input": "2023-02-24T17:02:36.365616Z",
     "iopub.status.busy": "2023-02-24T17:02:36.365208Z",
     "iopub.status.idle": "2023-02-24T17:02:36.378305Z",
     "shell.execute_reply": "2023-02-24T17:02:36.377152Z"
    },
    "papermill": {
     "duration": 0.038191,
     "end_time": "2023-02-24T17:02:36.380673",
     "exception": false,
     "start_time": "2023-02-24T17:02:36.342482",
     "status": "completed"
    },
    "tags": []
   },
   "outputs": [
    {
     "name": "stdout",
     "output_type": "stream",
     "text": [
      "Index(['LotFrontage', 'LotArea', 'OverallCond', 'YearBuilt', 'MasVnrArea', 'BsmtFinSF1', 'BsmtFinSF2', 'BsmtUnfSF', 'TotalBsmtSF', '1stFlrSF', '2ndFlrSF', 'LowQualFinSF', 'GrLivArea', 'BsmtFullBath', 'BsmtHalfBath', 'HalfBath', 'KitchenAbvGr', 'TotRmsAbvGrd', 'Fireplaces', 'WoodDeckSF', 'OpenPorchSF', 'EnclosedPorch', '3SsnPorch', 'ScreenPorch', 'PoolArea', 'MiscVal'], dtype='object')\n"
     ]
    }
   ],
   "source": [
    "# Find numerical columns\n",
    "numerical_cols = data.select_dtypes(include=[np.number]).columns\n",
    "\n",
    "# Calculate skewness for each numerical column\n",
    "skew_vals = data[numerical_cols].skew()\n",
    "\n",
    "# Find columns with absolute skewness greater than 0.5\n",
    "skewed_cols = skew_vals[abs(skew_vals) > 0.5].index\n",
    "\n",
    "print(skewed_cols)"
   ]
  },
  {
   "cell_type": "markdown",
   "id": "66930bde",
   "metadata": {
    "papermill": {
     "duration": 0.019814,
     "end_time": "2023-02-24T17:02:36.421048",
     "exception": false,
     "start_time": "2023-02-24T17:02:36.401234",
     "status": "completed"
    },
    "tags": []
   },
   "source": [
    "We can transform these using the Numpy function \"log1p\":"
   ]
  },
  {
   "cell_type": "code",
   "execution_count": 24,
   "id": "22ff1373",
   "metadata": {
    "execution": {
     "iopub.execute_input": "2023-02-24T17:02:36.464155Z",
     "iopub.status.busy": "2023-02-24T17:02:36.463307Z",
     "iopub.status.idle": "2023-02-24T17:02:36.475707Z",
     "shell.execute_reply": "2023-02-24T17:02:36.474747Z"
    },
    "papermill": {
     "duration": 0.036872,
     "end_time": "2023-02-24T17:02:36.478277",
     "exception": false,
     "start_time": "2023-02-24T17:02:36.441405",
     "status": "completed"
    },
    "tags": []
   },
   "outputs": [],
   "source": [
    "for col in skewed_cols:\n",
    "    if data[col].min() > 0:\n",
    "        data[col] = np.log1p(data[col])"
   ]
  },
  {
   "cell_type": "code",
   "execution_count": 25,
   "id": "6401d5f8",
   "metadata": {
    "execution": {
     "iopub.execute_input": "2023-02-24T17:02:36.522084Z",
     "iopub.status.busy": "2023-02-24T17:02:36.521343Z",
     "iopub.status.idle": "2023-02-24T17:02:36.831446Z",
     "shell.execute_reply": "2023-02-24T17:02:36.830044Z"
    },
    "papermill": {
     "duration": 0.334908,
     "end_time": "2023-02-24T17:02:36.834286",
     "exception": false,
     "start_time": "2023-02-24T17:02:36.499378",
     "status": "completed"
    },
    "tags": []
   },
   "outputs": [
    {
     "data": {
      "image/png": "[encoded data removed]",
      "text/plain": [
       "<Figure size 800x550 with 1 Axes>"
      ]
     },
     "metadata": {},
     "output_type": "display_data"
    }
   ],
   "source": [
    "plt.hist(data['LotFrontage'], bins=50)\n",
    "plt.show()"
   ]
  },
  {
   "cell_type": "markdown",
   "id": "70911c70",
   "metadata": {
    "papermill": {
     "duration": 0.02063,
     "end_time": "2023-02-24T17:02:36.876988",
     "exception": false,
     "start_time": "2023-02-24T17:02:36.856358",
     "status": "completed"
    },
    "tags": []
   },
   "source": [
    "As you can see in the updated histogram, the data is much more normally distributed now."
   ]
  },
  {
   "cell_type": "markdown",
   "id": "36af0184",
   "metadata": {
    "papermill": {
     "duration": 0.020787,
     "end_time": "2023-02-24T17:02:36.918343",
     "exception": false,
     "start_time": "2023-02-24T17:02:36.897556",
     "status": "completed"
    },
    "tags": []
   },
   "source": [
    "# Encoding"
   ]
  },
  {
   "cell_type": "markdown",
   "id": "e5720546",
   "metadata": {
    "papermill": {
     "duration": 0.020549,
     "end_time": "2023-02-24T17:02:36.960782",
     "exception": false,
     "start_time": "2023-02-24T17:02:36.940233",
     "status": "completed"
    },
    "tags": []
   },
   "source": [
    "We need to create dummy variables from the categorical variables in the data, since some machine learning algorithms require numerical data. This process is sometimes called \"one-hot\" encoding and there's a built-in pandas functions for it."
   ]
  },
  {
   "cell_type": "code",
   "execution_count": 26,
   "id": "c6b00bcb",
   "metadata": {
    "execution": {
     "iopub.execute_input": "2023-02-24T17:02:37.004744Z",
     "iopub.status.busy": "2023-02-24T17:02:37.004329Z",
     "iopub.status.idle": "2023-02-24T17:02:37.063436Z",
     "shell.execute_reply": "2023-02-24T17:02:37.062207Z"
    },
    "papermill": {
     "duration": 0.084088,
     "end_time": "2023-02-24T17:02:37.066263",
     "exception": false,
     "start_time": "2023-02-24T17:02:36.982175",
     "status": "completed"
    },
    "tags": []
   },
   "outputs": [],
   "source": [
    "data = pd.get_dummies(data)"
   ]
  },
  {
   "cell_type": "markdown",
   "id": "440d89ee",
   "metadata": {
    "papermill": {
     "duration": 0.020333,
     "end_time": "2023-02-24T17:02:37.107339",
     "exception": false,
     "start_time": "2023-02-24T17:02:37.087006",
     "status": "completed"
    },
    "tags": []
   },
   "source": [
    "Any categorical variable that contained multiple values has now been split into binary dummy/indicator variables, as shown in the example below."
   ]
  },
  {
   "cell_type": "code",
   "execution_count": 27,
   "id": "c8019351",
   "metadata": {
    "execution": {
     "iopub.execute_input": "2023-02-24T17:02:37.150336Z",
     "iopub.status.busy": "2023-02-24T17:02:37.149898Z",
     "iopub.status.idle": "2023-02-24T17:02:37.162161Z",
     "shell.execute_reply": "2023-02-24T17:02:37.160859Z"
    },
    "papermill": {
     "duration": 0.036823,
     "end_time": "2023-02-24T17:02:37.164688",
     "exception": false,
     "start_time": "2023-02-24T17:02:37.127865",
     "status": "completed"
    },
    "tags": []
   },
   "outputs": [
    {
     "name": "stdout",
     "output_type": "stream",
     "text": [
      "      MSZoning_C (all)  MSZoning_FV  MSZoning_RH  MSZoning_RL  MSZoning_RM\n",
      "0                    0            0            0            1            0\n",
      "1                    0            0            0            1            0\n",
      "2                    0            0            0            1            0\n",
      "3                    0            0            0            1            0\n",
      "4                    0            0            0            1            0\n",
      "...                ...          ...          ...          ...          ...\n",
      "2914                 0            0            0            0            1\n",
      "2915                 0            0            0            0            1\n",
      "2916                 0            0            0            1            0\n",
      "2917                 0            0            0            1            0\n",
      "2918                 0            0            0            1            0\n",
      "\n",
      "[2919 rows x 5 columns]\n"
     ]
    }
   ],
   "source": [
    "zoning = data.filter(regex='^MSZoning')\n",
    "print(zoning)"
   ]
  },
  {
   "cell_type": "markdown",
   "id": "d73b16de",
   "metadata": {
    "papermill": {
     "duration": 0.020819,
     "end_time": "2023-02-24T17:02:37.206820",
     "exception": false,
     "start_time": "2023-02-24T17:02:37.186001",
     "status": "completed"
    },
    "tags": []
   },
   "source": [
    "# Scaling"
   ]
  },
  {
   "cell_type": "code",
   "execution_count": 28,
   "id": "469e17a3",
   "metadata": {
    "execution": {
     "iopub.execute_input": "2023-02-24T17:02:37.251641Z",
     "iopub.status.busy": "2023-02-24T17:02:37.251203Z",
     "iopub.status.idle": "2023-02-24T17:02:37.294183Z",
     "shell.execute_reply": "2023-02-24T17:02:37.292541Z"
    },
    "papermill": {
     "duration": 0.069189,
     "end_time": "2023-02-24T17:02:37.297146",
     "exception": false,
     "start_time": "2023-02-24T17:02:37.227957",
     "status": "completed"
    },
    "tags": []
   },
   "outputs": [],
   "source": [
    "scaler = StandardScaler()\n",
    "scaler.fit(data)\n",
    "\n",
    "data = pd.DataFrame(scaler.transform(data), index=data.index, columns=data.columns)"
   ]
  },
  {
   "cell_type": "markdown",
   "id": "bb380d1d",
   "metadata": {
    "papermill": {
     "duration": 0.020852,
     "end_time": "2023-02-24T17:02:37.338837",
     "exception": false,
     "start_time": "2023-02-24T17:02:37.317985",
     "status": "completed"
    },
    "tags": []
   },
   "source": [
    "# Target Transformation"
   ]
  },
  {
   "cell_type": "markdown",
   "id": "8c3cf983",
   "metadata": {
    "papermill": {
     "duration": 0.020587,
     "end_time": "2023-02-24T17:02:37.381962",
     "exception": false,
     "start_time": "2023-02-24T17:02:37.361375",
     "status": "completed"
    },
    "tags": []
   },
   "source": [
    "Sometimes the target variable (outcome, y, etc.) is skewed and needs to be transformed."
   ]
  },
  {
   "cell_type": "code",
   "execution_count": 29,
   "id": "66ab2243",
   "metadata": {
    "execution": {
     "iopub.execute_input": "2023-02-24T17:02:37.426911Z",
     "iopub.status.busy": "2023-02-24T17:02:37.425678Z",
     "iopub.status.idle": "2023-02-24T17:02:37.859844Z",
     "shell.execute_reply": "2023-02-24T17:02:37.858649Z"
    },
    "papermill": {
     "duration": 0.458964,
     "end_time": "2023-02-24T17:02:37.862318",
     "exception": false,
     "start_time": "2023-02-24T17:02:37.403354",
     "status": "completed"
    },
    "tags": []
   },
   "outputs": [
    {
     "data": {
      "image/png": "[encoded data removed]",
      "text/plain": [
       "<Figure size 1000x1000 with 1 Axes>"
      ]
     },
     "metadata": {},
     "output_type": "display_data"
    }
   ],
   "source": [
    "plt.figure(figsize=(10,10))\n",
    "sns.histplot(target, kde=True) #kde gives us the smooth line\n",
    "plt.title(\"Sales Price\")\n",
    "plt.show()"
   ]
  },
  {
   "cell_type": "code",
   "execution_count": 30,
   "id": "b6c275c9",
   "metadata": {
    "execution": {
     "iopub.execute_input": "2023-02-24T17:02:37.908578Z",
     "iopub.status.busy": "2023-02-24T17:02:37.907846Z",
     "iopub.status.idle": "2023-02-24T17:02:37.918517Z",
     "shell.execute_reply": "2023-02-24T17:02:37.917190Z"
    },
    "papermill": {
     "duration": 0.036757,
     "end_time": "2023-02-24T17:02:37.920899",
     "exception": false,
     "start_time": "2023-02-24T17:02:37.884142",
     "status": "completed"
    },
    "tags": []
   },
   "outputs": [
    {
     "data": {
      "text/plain": [
       "0       12.247694\n",
       "1       12.109011\n",
       "2       12.317167\n",
       "3       11.849398\n",
       "4       12.429216\n",
       "          ...    \n",
       "1455    12.072541\n",
       "1456    12.254863\n",
       "1457    12.493130\n",
       "1458    11.864462\n",
       "1459    11.901583\n",
       "Name: SalePrice, Length: 1460, dtype: float64"
      ]
     },
     "execution_count": 30,
     "metadata": {},
     "output_type": "execute_result"
    }
   ],
   "source": [
    "log_target = np.log(target)\n",
    "log_target.dropna(inplace=True)\n",
    "log_target"
   ]
  },
  {
   "cell_type": "code",
   "execution_count": 31,
   "id": "555b9f5f",
   "metadata": {
    "execution": {
     "iopub.execute_input": "2023-02-24T17:02:37.966770Z",
     "iopub.status.busy": "2023-02-24T17:02:37.966366Z",
     "iopub.status.idle": "2023-02-24T17:02:38.345674Z",
     "shell.execute_reply": "2023-02-24T17:02:38.344093Z"
    },
    "papermill": {
     "duration": 0.405818,
     "end_time": "2023-02-24T17:02:38.348689",
     "exception": false,
     "start_time": "2023-02-24T17:02:37.942871",
     "status": "completed"
    },
    "tags": []
   },
   "outputs": [
    {
     "data": {
      "image/png": "[encoded data removed]",
      "text/plain": [
       "<Figure size 1000x1000 with 1 Axes>"
      ]
     },
     "metadata": {},
     "output_type": "display_data"
    }
   ],
   "source": [
    "plt.figure(figsize=(10,10))\n",
    "sns.histplot(log_target, kde=True) #kde gives us the smooth line\n",
    "plt.title(\"Sales Price\")\n",
    "plt.show()"
   ]
  },
  {
   "cell_type": "markdown",
   "id": "93604f16",
   "metadata": {
    "papermill": {
     "duration": 0.023052,
     "end_time": "2023-02-24T17:02:38.395086",
     "exception": false,
     "start_time": "2023-02-24T17:02:38.372034",
     "status": "completed"
    },
    "tags": []
   },
   "source": [
    "# Splitting the Data\n",
    "Before model selection, we should split the data back into the train and test sets.\n"
   ]
  },
  {
   "cell_type": "code",
   "execution_count": 32,
   "id": "5336938a",
   "metadata": {
    "execution": {
     "iopub.execute_input": "2023-02-24T17:02:38.443077Z",
     "iopub.status.busy": "2023-02-24T17:02:38.441801Z",
     "iopub.status.idle": "2023-02-24T17:02:38.457674Z",
     "shell.execute_reply": "2023-02-24T17:02:38.456548Z"
    },
    "papermill": {
     "duration": 0.042495,
     "end_time": "2023-02-24T17:02:38.460377",
     "exception": false,
     "start_time": "2023-02-24T17:02:38.417882",
     "status": "completed"
    },
    "tags": []
   },
   "outputs": [],
   "source": [
    "train = data.loc[:train.index.max(), :].copy()\n",
    "test = data.loc[train.index.max() + 1:, :].reset_index(drop=True).copy()"
   ]
  },
  {
   "cell_type": "markdown",
   "id": "5ee6dd7e",
   "metadata": {
    "papermill": {
     "duration": 0.023455,
     "end_time": "2023-02-24T17:02:38.506983",
     "exception": false,
     "start_time": "2023-02-24T17:02:38.483528",
     "status": "completed"
    },
    "tags": []
   },
   "source": [
    "# Model Selection"
   ]
  },
  {
   "cell_type": "markdown",
   "id": "603181b3",
   "metadata": {
    "papermill": {
     "duration": 0.022553,
     "end_time": "2023-02-24T17:02:38.552377",
     "exception": false,
     "start_time": "2023-02-24T17:02:38.529824",
     "status": "completed"
    },
    "tags": []
   },
   "source": [
    "### Setup (PyCarat)"
   ]
  },
  {
   "cell_type": "code",
   "execution_count": 33,
   "id": "f46dd856",
   "metadata": {
    "execution": {
     "iopub.execute_input": "2023-02-24T17:02:38.601436Z",
     "iopub.status.busy": "2023-02-24T17:02:38.600932Z",
     "iopub.status.idle": "2023-02-24T17:02:41.922246Z",
     "shell.execute_reply": "2023-02-24T17:02:41.921280Z"
    },
    "papermill": {
     "duration": 3.349449,
     "end_time": "2023-02-24T17:02:41.924803",
     "exception": false,
     "start_time": "2023-02-24T17:02:38.575354",
     "status": "completed"
    },
    "tags": []
   },
   "outputs": [
    {
     "data": {
      "text/html": [
       "<style type='text/css'>\n",
       ".datatable table.frame { margin-bottom: 0; }\n",
       ".datatable table.frame thead { border-bottom: none; }\n",
       ".datatable table.frame tr.coltypes td {  color: #FFFFFF;  line-height: 6px;  padding: 0 0.5em;}\n",
       ".datatable .bool    { background: #DDDD99; }\n",
       ".datatable .object  { background: #565656; }\n",
       ".datatable .int     { background: #5D9E5D; }\n",
       ".datatable .float   { background: #4040CC; }\n",
       ".datatable .str     { background: #CC4040; }\n",
       ".datatable .time    { background: #40CC40; }\n",
       ".datatable .row_index {  background: var(--jp-border-color3);  border-right: 1px solid var(--jp-border-color0);  color: var(--jp-ui-font-color3);  font-size: 9px;}\n",
       ".datatable .frame tbody td { text-align: left; }\n",
       ".datatable .frame tr.coltypes .row_index {  background: var(--jp-border-color0);}\n",
       ".datatable th:nth-child(2) { padding-left: 12px; }\n",
       ".datatable .hellipsis {  color: var(--jp-cell-editor-border-color);}\n",
       ".datatable .vellipsis {  background: var(--jp-layout-color0);  color: var(--jp-cell-editor-border-color);}\n",
       ".datatable .na {  color: var(--jp-cell-editor-border-color);  font-size: 80%;}\n",
       ".datatable .sp {  opacity: 0.25;}\n",
       ".datatable .footer { font-size: 9px; }\n",
       ".datatable .frame_dimensions {  background: var(--jp-border-color3);  border-top: 1px solid var(--jp-border-color0);  color: var(--jp-ui-font-color3);  display: inline-block;  opacity: 0.6;  padding: 1px 10px 1px 5px;}\n",
       "</style>\n"
      ],
      "text/plain": [
       "<IPython.core.display.HTML object>"
      ]
     },
     "metadata": {},
     "output_type": "display_data"
    },
    {
     "data": {
      "text/html": [
       "<style type=\"text/css\">\n",
       "#T_6a1f0_row8_col1 {\n",
       "  background-color: lightgreen;\n",
       "}\n",
       "</style>\n",
       "<table id=\"T_6a1f0_\">\n",
       "  <thead>\n",
       "    <tr>\n",
       "      <th class=\"blank level0\" >&nbsp;</th>\n",
       "      <th class=\"col_heading level0 col0\" >Description</th>\n",
       "      <th class=\"col_heading level0 col1\" >Value</th>\n",
       "    </tr>\n",
       "  </thead>\n",
       "  <tbody>\n",
       "    <tr>\n",
       "      <th id=\"T_6a1f0_level0_row0\" class=\"row_heading level0 row0\" >0</th>\n",
       "      <td id=\"T_6a1f0_row0_col0\" class=\"data row0 col0\" >Session id</td>\n",
       "      <td id=\"T_6a1f0_row0_col1\" class=\"data row0 col1\" >3093</td>\n",
       "    </tr>\n",
       "    <tr>\n",
       "      <th id=\"T_6a1f0_level0_row1\" class=\"row_heading level0 row1\" >1</th>\n",
       "      <td id=\"T_6a1f0_row1_col0\" class=\"data row1 col0\" >Target</td>\n",
       "      <td id=\"T_6a1f0_row1_col1\" class=\"data row1 col1\" >SalePrice</td>\n",
       "    </tr>\n",
       "    <tr>\n",
       "      <th id=\"T_6a1f0_level0_row2\" class=\"row_heading level0 row2\" >2</th>\n",
       "      <td id=\"T_6a1f0_row2_col0\" class=\"data row2 col0\" >Target type</td>\n",
       "      <td id=\"T_6a1f0_row2_col1\" class=\"data row2 col1\" >Regression</td>\n",
       "    </tr>\n",
       "    <tr>\n",
       "      <th id=\"T_6a1f0_level0_row3\" class=\"row_heading level0 row3\" >3</th>\n",
       "      <td id=\"T_6a1f0_row3_col0\" class=\"data row3 col0\" >Original data shape</td>\n",
       "      <td id=\"T_6a1f0_row3_col1\" class=\"data row3 col1\" >(1460, 421)</td>\n",
       "    </tr>\n",
       "    <tr>\n",
       "      <th id=\"T_6a1f0_level0_row4\" class=\"row_heading level0 row4\" >4</th>\n",
       "      <td id=\"T_6a1f0_row4_col0\" class=\"data row4 col0\" >Transformed data shape</td>\n",
       "      <td id=\"T_6a1f0_row4_col1\" class=\"data row4 col1\" >(1460, 421)</td>\n",
       "    </tr>\n",
       "    <tr>\n",
       "      <th id=\"T_6a1f0_level0_row5\" class=\"row_heading level0 row5\" >5</th>\n",
       "      <td id=\"T_6a1f0_row5_col0\" class=\"data row5 col0\" >Transformed train set shape</td>\n",
       "      <td id=\"T_6a1f0_row5_col1\" class=\"data row5 col1\" >(1021, 421)</td>\n",
       "    </tr>\n",
       "    <tr>\n",
       "      <th id=\"T_6a1f0_level0_row6\" class=\"row_heading level0 row6\" >6</th>\n",
       "      <td id=\"T_6a1f0_row6_col0\" class=\"data row6 col0\" >Transformed test set shape</td>\n",
       "      <td id=\"T_6a1f0_row6_col1\" class=\"data row6 col1\" >(439, 421)</td>\n",
       "    </tr>\n",
       "    <tr>\n",
       "      <th id=\"T_6a1f0_level0_row7\" class=\"row_heading level0 row7\" >7</th>\n",
       "      <td id=\"T_6a1f0_row7_col0\" class=\"data row7 col0\" >Numeric features</td>\n",
       "      <td id=\"T_6a1f0_row7_col1\" class=\"data row7 col1\" >420</td>\n",
       "    </tr>\n",
       "    <tr>\n",
       "      <th id=\"T_6a1f0_level0_row8\" class=\"row_heading level0 row8\" >8</th>\n",
       "      <td id=\"T_6a1f0_row8_col0\" class=\"data row8 col0\" >Preprocess</td>\n",
       "      <td id=\"T_6a1f0_row8_col1\" class=\"data row8 col1\" >True</td>\n",
       "    </tr>\n",
       "    <tr>\n",
       "      <th id=\"T_6a1f0_level0_row9\" class=\"row_heading level0 row9\" >9</th>\n",
       "      <td id=\"T_6a1f0_row9_col0\" class=\"data row9 col0\" >Imputation type</td>\n",
       "      <td id=\"T_6a1f0_row9_col1\" class=\"data row9 col1\" >simple</td>\n",
       "    </tr>\n",
       "    <tr>\n",
       "      <th id=\"T_6a1f0_level0_row10\" class=\"row_heading level0 row10\" >10</th>\n",
       "      <td id=\"T_6a1f0_row10_col0\" class=\"data row10 col0\" >Numeric imputation</td>\n",
       "      <td id=\"T_6a1f0_row10_col1\" class=\"data row10 col1\" >mean</td>\n",
       "    </tr>\n",
       "    <tr>\n",
       "      <th id=\"T_6a1f0_level0_row11\" class=\"row_heading level0 row11\" >11</th>\n",
       "      <td id=\"T_6a1f0_row11_col0\" class=\"data row11 col0\" >Categorical imputation</td>\n",
       "      <td id=\"T_6a1f0_row11_col1\" class=\"data row11 col1\" >mode</td>\n",
       "    </tr>\n",
       "    <tr>\n",
       "      <th id=\"T_6a1f0_level0_row12\" class=\"row_heading level0 row12\" >12</th>\n",
       "      <td id=\"T_6a1f0_row12_col0\" class=\"data row12 col0\" >Fold Generator</td>\n",
       "      <td id=\"T_6a1f0_row12_col1\" class=\"data row12 col1\" >KFold</td>\n",
       "    </tr>\n",
       "    <tr>\n",
       "      <th id=\"T_6a1f0_level0_row13\" class=\"row_heading level0 row13\" >13</th>\n",
       "      <td id=\"T_6a1f0_row13_col0\" class=\"data row13 col0\" >Fold Number</td>\n",
       "      <td id=\"T_6a1f0_row13_col1\" class=\"data row13 col1\" >10</td>\n",
       "    </tr>\n",
       "    <tr>\n",
       "      <th id=\"T_6a1f0_level0_row14\" class=\"row_heading level0 row14\" >14</th>\n",
       "      <td id=\"T_6a1f0_row14_col0\" class=\"data row14 col0\" >CPU Jobs</td>\n",
       "      <td id=\"T_6a1f0_row14_col1\" class=\"data row14 col1\" >-1</td>\n",
       "    </tr>\n",
       "    <tr>\n",
       "      <th id=\"T_6a1f0_level0_row15\" class=\"row_heading level0 row15\" >15</th>\n",
       "      <td id=\"T_6a1f0_row15_col0\" class=\"data row15 col0\" >Use GPU</td>\n",
       "      <td id=\"T_6a1f0_row15_col1\" class=\"data row15 col1\" >False</td>\n",
       "    </tr>\n",
       "    <tr>\n",
       "      <th id=\"T_6a1f0_level0_row16\" class=\"row_heading level0 row16\" >16</th>\n",
       "      <td id=\"T_6a1f0_row16_col0\" class=\"data row16 col0\" >Log Experiment</td>\n",
       "      <td id=\"T_6a1f0_row16_col1\" class=\"data row16 col1\" >False</td>\n",
       "    </tr>\n",
       "    <tr>\n",
       "      <th id=\"T_6a1f0_level0_row17\" class=\"row_heading level0 row17\" >17</th>\n",
       "      <td id=\"T_6a1f0_row17_col0\" class=\"data row17 col0\" >Experiment Name</td>\n",
       "      <td id=\"T_6a1f0_row17_col1\" class=\"data row17 col1\" >reg-default-name</td>\n",
       "    </tr>\n",
       "    <tr>\n",
       "      <th id=\"T_6a1f0_level0_row18\" class=\"row_heading level0 row18\" >18</th>\n",
       "      <td id=\"T_6a1f0_row18_col0\" class=\"data row18 col0\" >USI</td>\n",
       "      <td id=\"T_6a1f0_row18_col1\" class=\"data row18 col1\" >215a</td>\n",
       "    </tr>\n",
       "  </tbody>\n",
       "</table>\n"
      ],
      "text/plain": [
       "<pandas.io.formats.style.Styler at 0x7f22a0dba110>"
      ]
     },
     "metadata": {},
     "output_type": "display_data"
    },
    {
     "data": {
      "text/plain": [
       "<pycaret.regression.oop.RegressionExperiment at 0x7f22a9988b50>"
      ]
     },
     "execution_count": 33,
     "metadata": {},
     "output_type": "execute_result"
    }
   ],
   "source": [
    "#Temporarily concat the target variable\n",
    "setup(data=pd.concat([train, log_target], axis=1), target='SalePrice')"
   ]
  },
  {
   "cell_type": "markdown",
   "id": "707ecf16",
   "metadata": {
    "papermill": {
     "duration": 0.022828,
     "end_time": "2023-02-24T17:02:41.971553",
     "exception": false,
     "start_time": "2023-02-24T17:02:41.948725",
     "status": "completed"
    },
    "tags": []
   },
   "source": [
    "### Compare Potential Models (PyCarat)"
   ]
  },
  {
   "cell_type": "code",
   "execution_count": 34,
   "id": "ce33aa3c",
   "metadata": {
    "execution": {
     "iopub.execute_input": "2023-02-24T17:02:42.020483Z",
     "iopub.status.busy": "2023-02-24T17:02:42.019771Z",
     "iopub.status.idle": "2023-02-24T17:05:06.427537Z",
     "shell.execute_reply": "2023-02-24T17:05:06.426239Z"
    },
    "papermill": {
     "duration": 144.435606,
     "end_time": "2023-02-24T17:05:06.430093",
     "exception": false,
     "start_time": "2023-02-24T17:02:41.994487",
     "status": "completed"
    },
    "tags": []
   },
   "outputs": [
    {
     "data": {
      "text/html": [],
      "text/plain": [
       "<IPython.core.display.HTML object>"
      ]
     },
     "metadata": {},
     "output_type": "display_data"
    },
    {
     "data": {
      "text/html": [
       "<style type=\"text/css\">\n",
       "#T_e5203_ th {\n",
       "  text-align: left;\n",
       "}\n",
       "#T_e5203_row0_col0, #T_e5203_row1_col0, #T_e5203_row1_col1, #T_e5203_row1_col2, #T_e5203_row1_col3, #T_e5203_row1_col4, #T_e5203_row1_col5, #T_e5203_row1_col6, #T_e5203_row2_col0, #T_e5203_row2_col1, #T_e5203_row2_col2, #T_e5203_row2_col3, #T_e5203_row2_col4, #T_e5203_row2_col5, #T_e5203_row2_col6, #T_e5203_row3_col0, #T_e5203_row3_col1, #T_e5203_row3_col2, #T_e5203_row3_col3, #T_e5203_row3_col4, #T_e5203_row3_col5, #T_e5203_row3_col6, #T_e5203_row4_col0, #T_e5203_row4_col1, #T_e5203_row4_col2, #T_e5203_row4_col3, #T_e5203_row4_col4, #T_e5203_row4_col5, #T_e5203_row4_col6, #T_e5203_row5_col0, #T_e5203_row5_col1, #T_e5203_row5_col2, #T_e5203_row5_col3, #T_e5203_row5_col4, #T_e5203_row5_col5, #T_e5203_row5_col6, #T_e5203_row6_col0, #T_e5203_row6_col1, #T_e5203_row6_col2, #T_e5203_row6_col3, #T_e5203_row6_col4, #T_e5203_row6_col5, #T_e5203_row6_col6, #T_e5203_row7_col0, #T_e5203_row7_col1, #T_e5203_row7_col2, #T_e5203_row7_col3, #T_e5203_row7_col4, #T_e5203_row7_col5, #T_e5203_row7_col6, #T_e5203_row8_col0, #T_e5203_row8_col1, #T_e5203_row8_col2, #T_e5203_row8_col3, #T_e5203_row8_col4, #T_e5203_row8_col5, #T_e5203_row8_col6, #T_e5203_row9_col0, #T_e5203_row9_col1, #T_e5203_row9_col2, #T_e5203_row9_col3, #T_e5203_row9_col4, #T_e5203_row9_col5, #T_e5203_row9_col6, #T_e5203_row10_col0, #T_e5203_row10_col1, #T_e5203_row10_col2, #T_e5203_row10_col3, #T_e5203_row10_col4, #T_e5203_row10_col5, #T_e5203_row10_col6, #T_e5203_row11_col0, #T_e5203_row11_col1, #T_e5203_row11_col2, #T_e5203_row11_col3, #T_e5203_row11_col4, #T_e5203_row11_col5, #T_e5203_row11_col6, #T_e5203_row12_col0, #T_e5203_row12_col1, #T_e5203_row12_col2, #T_e5203_row12_col3, #T_e5203_row12_col4, #T_e5203_row12_col5, #T_e5203_row12_col6, #T_e5203_row13_col0, #T_e5203_row13_col1, #T_e5203_row13_col2, #T_e5203_row13_col3, #T_e5203_row13_col4, #T_e5203_row13_col5, #T_e5203_row13_col6, #T_e5203_row14_col0, #T_e5203_row14_col1, #T_e5203_row14_col2, #T_e5203_row14_col3, #T_e5203_row14_col4, #T_e5203_row14_col5, #T_e5203_row14_col6, #T_e5203_row15_col0, #T_e5203_row15_col1, #T_e5203_row15_col2, #T_e5203_row15_col3, #T_e5203_row15_col4, #T_e5203_row15_col5, #T_e5203_row15_col6, #T_e5203_row16_col0, #T_e5203_row16_col1, #T_e5203_row16_col2, #T_e5203_row16_col3, #T_e5203_row16_col4, #T_e5203_row16_col5, #T_e5203_row16_col6, #T_e5203_row17_col0, #T_e5203_row17_col1, #T_e5203_row17_col2, #T_e5203_row17_col3, #T_e5203_row17_col4, #T_e5203_row17_col5, #T_e5203_row17_col6, #T_e5203_row18_col0, #T_e5203_row18_col1, #T_e5203_row18_col2, #T_e5203_row18_col3, #T_e5203_row18_col4, #T_e5203_row18_col5, #T_e5203_row18_col6, #T_e5203_row19_col0, #T_e5203_row19_col1, #T_e5203_row19_col2, #T_e5203_row19_col3, #T_e5203_row19_col4, #T_e5203_row19_col5, #T_e5203_row19_col6 {\n",
       "  text-align: left;\n",
       "}\n",
       "#T_e5203_row0_col1, #T_e5203_row0_col2, #T_e5203_row0_col3, #T_e5203_row0_col4, #T_e5203_row0_col5, #T_e5203_row0_col6 {\n",
       "  text-align: left;\n",
       "  background-color: yellow;\n",
       "}\n",
       "#T_e5203_row0_col7, #T_e5203_row1_col7, #T_e5203_row2_col7, #T_e5203_row3_col7, #T_e5203_row4_col7, #T_e5203_row5_col7, #T_e5203_row6_col7, #T_e5203_row8_col7, #T_e5203_row9_col7, #T_e5203_row10_col7, #T_e5203_row11_col7, #T_e5203_row12_col7, #T_e5203_row13_col7, #T_e5203_row15_col7, #T_e5203_row16_col7, #T_e5203_row17_col7, #T_e5203_row18_col7, #T_e5203_row19_col7 {\n",
       "  text-align: left;\n",
       "  background-color: lightgrey;\n",
       "}\n",
       "#T_e5203_row7_col7, #T_e5203_row14_col7 {\n",
       "  text-align: left;\n",
       "  background-color: yellow;\n",
       "  background-color: lightgrey;\n",
       "}\n",
       "</style>\n",
       "<table id=\"T_e5203_\">\n",
       "  <thead>\n",
       "    <tr>\n",
       "      <th class=\"blank level0\" >&nbsp;</th>\n",
       "      <th class=\"col_heading level0 col0\" >Model</th>\n",
       "      <th class=\"col_heading level0 col1\" >MAE</th>\n",
       "      <th class=\"col_heading level0 col2\" >MSE</th>\n",
       "      <th class=\"col_heading level0 col3\" >RMSE</th>\n",
       "      <th class=\"col_heading level0 col4\" >R2</th>\n",
       "      <th class=\"col_heading level0 col5\" >RMSLE</th>\n",
       "      <th class=\"col_heading level0 col6\" >MAPE</th>\n",
       "      <th class=\"col_heading level0 col7\" >TT (Sec)</th>\n",
       "    </tr>\n",
       "  </thead>\n",
       "  <tbody>\n",
       "    <tr>\n",
       "      <th id=\"T_e5203_level0_row0\" class=\"row_heading level0 row0\" >catboost</th>\n",
       "      <td id=\"T_e5203_row0_col0\" class=\"data row0 col0\" >CatBoost Regressor</td>\n",
       "      <td id=\"T_e5203_row0_col1\" class=\"data row0 col1\" >0.0847</td>\n",
       "      <td id=\"T_e5203_row0_col2\" class=\"data row0 col2\" >0.0165</td>\n",
       "      <td id=\"T_e5203_row0_col3\" class=\"data row0 col3\" >0.1278</td>\n",
       "      <td id=\"T_e5203_row0_col4\" class=\"data row0 col4\" >0.8964</td>\n",
       "      <td id=\"T_e5203_row0_col5\" class=\"data row0 col5\" >0.0099</td>\n",
       "      <td id=\"T_e5203_row0_col6\" class=\"data row0 col6\" >0.0071</td>\n",
       "      <td id=\"T_e5203_row0_col7\" class=\"data row0 col7\" >5.5420</td>\n",
       "    </tr>\n",
       "    <tr>\n",
       "      <th id=\"T_e5203_level0_row1\" class=\"row_heading level0 row1\" >gbr</th>\n",
       "      <td id=\"T_e5203_row1_col0\" class=\"data row1 col0\" >Gradient Boosting Regressor</td>\n",
       "      <td id=\"T_e5203_row1_col1\" class=\"data row1 col1\" >0.0921</td>\n",
       "      <td id=\"T_e5203_row1_col2\" class=\"data row1 col2\" >0.0187</td>\n",
       "      <td id=\"T_e5203_row1_col3\" class=\"data row1 col3\" >0.1356</td>\n",
       "      <td id=\"T_e5203_row1_col4\" class=\"data row1 col4\" >0.8827</td>\n",
       "      <td id=\"T_e5203_row1_col5\" class=\"data row1 col5\" >0.0105</td>\n",
       "      <td id=\"T_e5203_row1_col6\" class=\"data row1 col6\" >0.0077</td>\n",
       "      <td id=\"T_e5203_row1_col7\" class=\"data row1 col7\" >0.5110</td>\n",
       "    </tr>\n",
       "    <tr>\n",
       "      <th id=\"T_e5203_level0_row2\" class=\"row_heading level0 row2\" >lightgbm</th>\n",
       "      <td id=\"T_e5203_row2_col0\" class=\"data row2 col0\" >Light Gradient Boosting Machine</td>\n",
       "      <td id=\"T_e5203_row2_col1\" class=\"data row2 col1\" >0.0936</td>\n",
       "      <td id=\"T_e5203_row2_col2\" class=\"data row2 col2\" >0.0192</td>\n",
       "      <td id=\"T_e5203_row2_col3\" class=\"data row2 col3\" >0.1377</td>\n",
       "      <td id=\"T_e5203_row2_col4\" class=\"data row2 col4\" >0.8795</td>\n",
       "      <td id=\"T_e5203_row2_col5\" class=\"data row2 col5\" >0.0106</td>\n",
       "      <td id=\"T_e5203_row2_col6\" class=\"data row2 col6\" >0.0078</td>\n",
       "      <td id=\"T_e5203_row2_col7\" class=\"data row2 col7\" >0.8290</td>\n",
       "    </tr>\n",
       "    <tr>\n",
       "      <th id=\"T_e5203_level0_row3\" class=\"row_heading level0 row3\" >xgboost</th>\n",
       "      <td id=\"T_e5203_row3_col0\" class=\"data row3 col0\" >Extreme Gradient Boosting</td>\n",
       "      <td id=\"T_e5203_row3_col1\" class=\"data row3 col1\" >0.0977</td>\n",
       "      <td id=\"T_e5203_row3_col2\" class=\"data row3 col2\" >0.0213</td>\n",
       "      <td id=\"T_e5203_row3_col3\" class=\"data row3 col3\" >0.1447</td>\n",
       "      <td id=\"T_e5203_row3_col4\" class=\"data row3 col4\" >0.8675</td>\n",
       "      <td id=\"T_e5203_row3_col5\" class=\"data row3 col5\" >0.0112</td>\n",
       "      <td id=\"T_e5203_row3_col6\" class=\"data row3 col6\" >0.0082</td>\n",
       "      <td id=\"T_e5203_row3_col7\" class=\"data row3 col7\" >1.2180</td>\n",
       "    </tr>\n",
       "    <tr>\n",
       "      <th id=\"T_e5203_level0_row4\" class=\"row_heading level0 row4\" >rf</th>\n",
       "      <td id=\"T_e5203_row4_col0\" class=\"data row4 col0\" >Random Forest Regressor</td>\n",
       "      <td id=\"T_e5203_row4_col1\" class=\"data row4 col1\" >0.1014</td>\n",
       "      <td id=\"T_e5203_row4_col2\" class=\"data row4 col2\" >0.0222</td>\n",
       "      <td id=\"T_e5203_row4_col3\" class=\"data row4 col3\" >0.1479</td>\n",
       "      <td id=\"T_e5203_row4_col4\" class=\"data row4 col4\" >0.8614</td>\n",
       "      <td id=\"T_e5203_row4_col5\" class=\"data row4 col5\" >0.0114</td>\n",
       "      <td id=\"T_e5203_row4_col6\" class=\"data row4 col6\" >0.0085</td>\n",
       "      <td id=\"T_e5203_row4_col7\" class=\"data row4 col7\" >1.1360</td>\n",
       "    </tr>\n",
       "    <tr>\n",
       "      <th id=\"T_e5203_level0_row5\" class=\"row_heading level0 row5\" >et</th>\n",
       "      <td id=\"T_e5203_row5_col0\" class=\"data row5 col0\" >Extra Trees Regressor</td>\n",
       "      <td id=\"T_e5203_row5_col1\" class=\"data row5 col1\" >0.1027</td>\n",
       "      <td id=\"T_e5203_row5_col2\" class=\"data row5 col2\" >0.0235</td>\n",
       "      <td id=\"T_e5203_row5_col3\" class=\"data row5 col3\" >0.1514</td>\n",
       "      <td id=\"T_e5203_row5_col4\" class=\"data row5 col4\" >0.8518</td>\n",
       "      <td id=\"T_e5203_row5_col5\" class=\"data row5 col5\" >0.0117</td>\n",
       "      <td id=\"T_e5203_row5_col6\" class=\"data row5 col6\" >0.0086</td>\n",
       "      <td id=\"T_e5203_row5_col7\" class=\"data row5 col7\" >1.3890</td>\n",
       "    </tr>\n",
       "    <tr>\n",
       "      <th id=\"T_e5203_level0_row6\" class=\"row_heading level0 row6\" >br</th>\n",
       "      <td id=\"T_e5203_row6_col0\" class=\"data row6 col0\" >Bayesian Ridge</td>\n",
       "      <td id=\"T_e5203_row6_col1\" class=\"data row6 col1\" >0.0941</td>\n",
       "      <td id=\"T_e5203_row6_col2\" class=\"data row6 col2\" >0.0245</td>\n",
       "      <td id=\"T_e5203_row6_col3\" class=\"data row6 col3\" >0.1507</td>\n",
       "      <td id=\"T_e5203_row6_col4\" class=\"data row6 col4\" >0.8455</td>\n",
       "      <td id=\"T_e5203_row6_col5\" class=\"data row6 col5\" >0.0115</td>\n",
       "      <td id=\"T_e5203_row6_col6\" class=\"data row6 col6\" >0.0079</td>\n",
       "      <td id=\"T_e5203_row6_col7\" class=\"data row6 col7\" >0.1900</td>\n",
       "    </tr>\n",
       "    <tr>\n",
       "      <th id=\"T_e5203_level0_row7\" class=\"row_heading level0 row7\" >omp</th>\n",
       "      <td id=\"T_e5203_row7_col0\" class=\"data row7 col0\" >Orthogonal Matching Pursuit</td>\n",
       "      <td id=\"T_e5203_row7_col1\" class=\"data row7 col1\" >0.0911</td>\n",
       "      <td id=\"T_e5203_row7_col2\" class=\"data row7 col2\" >0.0246</td>\n",
       "      <td id=\"T_e5203_row7_col3\" class=\"data row7 col3\" >0.1487</td>\n",
       "      <td id=\"T_e5203_row7_col4\" class=\"data row7 col4\" >0.8449</td>\n",
       "      <td id=\"T_e5203_row7_col5\" class=\"data row7 col5\" >0.0113</td>\n",
       "      <td id=\"T_e5203_row7_col6\" class=\"data row7 col6\" >0.0076</td>\n",
       "      <td id=\"T_e5203_row7_col7\" class=\"data row7 col7\" >0.0930</td>\n",
       "    </tr>\n",
       "    <tr>\n",
       "      <th id=\"T_e5203_level0_row8\" class=\"row_heading level0 row8\" >ada</th>\n",
       "      <td id=\"T_e5203_row8_col0\" class=\"data row8 col0\" >AdaBoost Regressor</td>\n",
       "      <td id=\"T_e5203_row8_col1\" class=\"data row8 col1\" >0.1343</td>\n",
       "      <td id=\"T_e5203_row8_col2\" class=\"data row8 col2\" >0.0318</td>\n",
       "      <td id=\"T_e5203_row8_col3\" class=\"data row8 col3\" >0.1778</td>\n",
       "      <td id=\"T_e5203_row8_col4\" class=\"data row8 col4\" >0.8004</td>\n",
       "      <td id=\"T_e5203_row8_col5\" class=\"data row8 col5\" >0.0137</td>\n",
       "      <td id=\"T_e5203_row8_col6\" class=\"data row8 col6\" >0.0112</td>\n",
       "      <td id=\"T_e5203_row8_col7\" class=\"data row8 col7\" >0.3920</td>\n",
       "    </tr>\n",
       "    <tr>\n",
       "      <th id=\"T_e5203_level0_row9\" class=\"row_heading level0 row9\" >ridge</th>\n",
       "      <td id=\"T_e5203_row9_col0\" class=\"data row9 col0\" >Ridge Regression</td>\n",
       "      <td id=\"T_e5203_row9_col1\" class=\"data row9 col1\" >0.1076</td>\n",
       "      <td id=\"T_e5203_row9_col2\" class=\"data row9 col2\" >0.0330</td>\n",
       "      <td id=\"T_e5203_row9_col3\" class=\"data row9 col3\" >0.1761</td>\n",
       "      <td id=\"T_e5203_row9_col4\" class=\"data row9 col4\" >0.7917</td>\n",
       "      <td id=\"T_e5203_row9_col5\" class=\"data row9 col5\" >0.0135</td>\n",
       "      <td id=\"T_e5203_row9_col6\" class=\"data row9 col6\" >0.0090</td>\n",
       "      <td id=\"T_e5203_row9_col7\" class=\"data row9 col7\" >0.1000</td>\n",
       "    </tr>\n",
       "    <tr>\n",
       "      <th id=\"T_e5203_level0_row10\" class=\"row_heading level0 row10\" >knn</th>\n",
       "      <td id=\"T_e5203_row10_col0\" class=\"data row10 col0\" >K Neighbors Regressor</td>\n",
       "      <td id=\"T_e5203_row10_col1\" class=\"data row10 col1\" >0.1690</td>\n",
       "      <td id=\"T_e5203_row10_col2\" class=\"data row10 col2\" >0.0531</td>\n",
       "      <td id=\"T_e5203_row10_col3\" class=\"data row10 col3\" >0.2300</td>\n",
       "      <td id=\"T_e5203_row10_col4\" class=\"data row10 col4\" >0.6673</td>\n",
       "      <td id=\"T_e5203_row10_col5\" class=\"data row10 col5\" >0.0177</td>\n",
       "      <td id=\"T_e5203_row10_col6\" class=\"data row10 col6\" >0.0141</td>\n",
       "      <td id=\"T_e5203_row10_col7\" class=\"data row10 col7\" >0.1140</td>\n",
       "    </tr>\n",
       "    <tr>\n",
       "      <th id=\"T_e5203_level0_row11\" class=\"row_heading level0 row11\" >dt</th>\n",
       "      <td id=\"T_e5203_row11_col0\" class=\"data row11 col0\" >Decision Tree Regressor</td>\n",
       "      <td id=\"T_e5203_row11_col1\" class=\"data row11 col1\" >0.1625</td>\n",
       "      <td id=\"T_e5203_row11_col2\" class=\"data row11 col2\" >0.0538</td>\n",
       "      <td id=\"T_e5203_row11_col3\" class=\"data row11 col3\" >0.2308</td>\n",
       "      <td id=\"T_e5203_row11_col4\" class=\"data row11 col4\" >0.6632</td>\n",
       "      <td id=\"T_e5203_row11_col5\" class=\"data row11 col5\" >0.0178</td>\n",
       "      <td id=\"T_e5203_row11_col6\" class=\"data row11 col6\" >0.0136</td>\n",
       "      <td id=\"T_e5203_row11_col7\" class=\"data row11 col7\" >0.1010</td>\n",
       "    </tr>\n",
       "    <tr>\n",
       "      <th id=\"T_e5203_level0_row12\" class=\"row_heading level0 row12\" >lasso</th>\n",
       "      <td id=\"T_e5203_row12_col0\" class=\"data row12 col0\" >Lasso Regression</td>\n",
       "      <td id=\"T_e5203_row12_col1\" class=\"data row12 col1\" >0.3121</td>\n",
       "      <td id=\"T_e5203_row12_col2\" class=\"data row12 col2\" >0.1624</td>\n",
       "      <td id=\"T_e5203_row12_col3\" class=\"data row12 col3\" >0.4020</td>\n",
       "      <td id=\"T_e5203_row12_col4\" class=\"data row12 col4\" >-0.0096</td>\n",
       "      <td id=\"T_e5203_row12_col5\" class=\"data row12 col5\" >0.0308</td>\n",
       "      <td id=\"T_e5203_row12_col6\" class=\"data row12 col6\" >0.0259</td>\n",
       "      <td id=\"T_e5203_row12_col7\" class=\"data row12 col7\" >0.1060</td>\n",
       "    </tr>\n",
       "    <tr>\n",
       "      <th id=\"T_e5203_level0_row13\" class=\"row_heading level0 row13\" >en</th>\n",
       "      <td id=\"T_e5203_row13_col0\" class=\"data row13 col0\" >Elastic Net</td>\n",
       "      <td id=\"T_e5203_row13_col1\" class=\"data row13 col1\" >0.3121</td>\n",
       "      <td id=\"T_e5203_row13_col2\" class=\"data row13 col2\" >0.1624</td>\n",
       "      <td id=\"T_e5203_row13_col3\" class=\"data row13 col3\" >0.4020</td>\n",
       "      <td id=\"T_e5203_row13_col4\" class=\"data row13 col4\" >-0.0096</td>\n",
       "      <td id=\"T_e5203_row13_col5\" class=\"data row13 col5\" >0.0308</td>\n",
       "      <td id=\"T_e5203_row13_col6\" class=\"data row13 col6\" >0.0259</td>\n",
       "      <td id=\"T_e5203_row13_col7\" class=\"data row13 col7\" >0.1070</td>\n",
       "    </tr>\n",
       "    <tr>\n",
       "      <th id=\"T_e5203_level0_row14\" class=\"row_heading level0 row14\" >llar</th>\n",
       "      <td id=\"T_e5203_row14_col0\" class=\"data row14 col0\" >Lasso Least Angle Regression</td>\n",
       "      <td id=\"T_e5203_row14_col1\" class=\"data row14 col1\" >0.3121</td>\n",
       "      <td id=\"T_e5203_row14_col2\" class=\"data row14 col2\" >0.1624</td>\n",
       "      <td id=\"T_e5203_row14_col3\" class=\"data row14 col3\" >0.4020</td>\n",
       "      <td id=\"T_e5203_row14_col4\" class=\"data row14 col4\" >-0.0096</td>\n",
       "      <td id=\"T_e5203_row14_col5\" class=\"data row14 col5\" >0.0308</td>\n",
       "      <td id=\"T_e5203_row14_col6\" class=\"data row14 col6\" >0.0259</td>\n",
       "      <td id=\"T_e5203_row14_col7\" class=\"data row14 col7\" >0.0930</td>\n",
       "    </tr>\n",
       "    <tr>\n",
       "      <th id=\"T_e5203_level0_row15\" class=\"row_heading level0 row15\" >dummy</th>\n",
       "      <td id=\"T_e5203_row15_col0\" class=\"data row15 col0\" >Dummy Regressor</td>\n",
       "      <td id=\"T_e5203_row15_col1\" class=\"data row15 col1\" >0.3121</td>\n",
       "      <td id=\"T_e5203_row15_col2\" class=\"data row15 col2\" >0.1624</td>\n",
       "      <td id=\"T_e5203_row15_col3\" class=\"data row15 col3\" >0.4020</td>\n",
       "      <td id=\"T_e5203_row15_col4\" class=\"data row15 col4\" >-0.0096</td>\n",
       "      <td id=\"T_e5203_row15_col5\" class=\"data row15 col5\" >0.0308</td>\n",
       "      <td id=\"T_e5203_row15_col6\" class=\"data row15 col6\" >0.0259</td>\n",
       "      <td id=\"T_e5203_row15_col7\" class=\"data row15 col7\" >0.2940</td>\n",
       "    </tr>\n",
       "    <tr>\n",
       "      <th id=\"T_e5203_level0_row16\" class=\"row_heading level0 row16\" >huber</th>\n",
       "      <td id=\"T_e5203_row16_col0\" class=\"data row16 col0\" >Huber Regressor</td>\n",
       "      <td id=\"T_e5203_row16_col1\" class=\"data row16 col1\" >0.4453</td>\n",
       "      <td id=\"T_e5203_row16_col2\" class=\"data row16 col2\" >4.1589</td>\n",
       "      <td id=\"T_e5203_row16_col3\" class=\"data row16 col3\" >1.8910</td>\n",
       "      <td id=\"T_e5203_row16_col4\" class=\"data row16 col4\" >-25.5838</td>\n",
       "      <td id=\"T_e5203_row16_col5\" class=\"data row16 col5\" >0.3116</td>\n",
       "      <td id=\"T_e5203_row16_col6\" class=\"data row16 col6\" >0.0373</td>\n",
       "      <td id=\"T_e5203_row16_col7\" class=\"data row16 col7\" >0.2730</td>\n",
       "    </tr>\n",
       "    <tr>\n",
       "      <th id=\"T_e5203_level0_row17\" class=\"row_heading level0 row17\" >par</th>\n",
       "      <td id=\"T_e5203_row17_col0\" class=\"data row17 col0\" >Passive Aggressive Regressor</td>\n",
       "      <td id=\"T_e5203_row17_col1\" class=\"data row17 col1\" >0.4776</td>\n",
       "      <td id=\"T_e5203_row17_col2\" class=\"data row17 col2\" >4.2452</td>\n",
       "      <td id=\"T_e5203_row17_col3\" class=\"data row17 col3\" >1.9192</td>\n",
       "      <td id=\"T_e5203_row17_col4\" class=\"data row17 col4\" >-26.0246</td>\n",
       "      <td id=\"T_e5203_row17_col5\" class=\"data row17 col5\" >0.3114</td>\n",
       "      <td id=\"T_e5203_row17_col6\" class=\"data row17 col6\" >0.0400</td>\n",
       "      <td id=\"T_e5203_row17_col7\" class=\"data row17 col7\" >0.1160</td>\n",
       "    </tr>\n",
       "    <tr>\n",
       "      <th id=\"T_e5203_level0_row18\" class=\"row_heading level0 row18\" >lr</th>\n",
       "      <td id=\"T_e5203_row18_col0\" class=\"data row18 col0\" >Linear Regression</td>\n",
       "      <td id=\"T_e5203_row18_col1\" class=\"data row18 col1\" >78.3094</td>\n",
       "      <td id=\"T_e5203_row18_col2\" class=\"data row18 col2\" >418222.4664</td>\n",
       "      <td id=\"T_e5203_row18_col3\" class=\"data row18 col3\" >415.6705</td>\n",
       "      <td id=\"T_e5203_row18_col4\" class=\"data row18 col4\" >-2756647.3646</td>\n",
       "      <td id=\"T_e5203_row18_col5\" class=\"data row18 col5\" >0.7545</td>\n",
       "      <td id=\"T_e5203_row18_col6\" class=\"data row18 col6\" >6.4434</td>\n",
       "      <td id=\"T_e5203_row18_col7\" class=\"data row18 col7\" >0.5080</td>\n",
       "    </tr>\n",
       "    <tr>\n",
       "      <th id=\"T_e5203_level0_row19\" class=\"row_heading level0 row19\" >lar</th>\n",
       "      <td id=\"T_e5203_row19_col0\" class=\"data row19 col0\" >Least Angle Regression</td>\n",
       "      <td id=\"T_e5203_row19_col1\" class=\"data row19 col1\" >337371985442032830238987124736.0000</td>\n",
       "      <td id=\"T_e5203_row19_col2\" class=\"data row19 col2\" >inf</td>\n",
       "      <td id=\"T_e5203_row19_col3\" class=\"data row19 col3\" >inf</td>\n",
       "      <td id=\"T_e5203_row19_col4\" class=\"data row19 col4\" >-inf</td>\n",
       "      <td id=\"T_e5203_row19_col5\" class=\"data row19 col5\" >28.0433</td>\n",
       "      <td id=\"T_e5203_row19_col6\" class=\"data row19 col6\" >28484503772208496563261014016.0000</td>\n",
       "      <td id=\"T_e5203_row19_col7\" class=\"data row19 col7\" >0.2600</td>\n",
       "    </tr>\n",
       "  </tbody>\n",
       "</table>\n"
      ],
      "text/plain": [
       "<pandas.io.formats.style.Styler at 0x7f229f874410>"
      ]
     },
     "metadata": {},
     "output_type": "display_data"
    },
    {
     "data": {
      "application/vnd.jupyter.widget-view+json": {
       "model_id": "e1a1a1e9c8b049bc8a7b4027361a4105",
       "version_major": 2,
       "version_minor": 0
      },
      "text/plain": [
       "Processing:   0%|          | 0/85 [00:00<?, ?it/s]"
      ]
     },
     "metadata": {},
     "output_type": "display_data"
    },
    {
     "data": {
      "text/plain": [
       "<catboost.core.CatBoostRegressor at 0x7f229f744890>"
      ]
     },
     "execution_count": 34,
     "metadata": {},
     "output_type": "execute_result"
    }
   ],
   "source": [
    "compare_models()"
   ]
  },
  {
   "cell_type": "markdown",
   "id": "3ba92c74",
   "metadata": {
    "papermill": {
     "duration": 0.02495,
     "end_time": "2023-02-24T17:05:06.479528",
     "exception": false,
     "start_time": "2023-02-24T17:05:06.454578",
     "status": "completed"
    },
    "tags": []
   },
   "source": [
    "The best performing model is CatBoost Regressor. "
   ]
  },
  {
   "cell_type": "markdown",
   "id": "5cddee8f",
   "metadata": {
    "papermill": {
     "duration": 0.026345,
     "end_time": "2023-02-24T17:05:06.531279",
     "exception": false,
     "start_time": "2023-02-24T17:05:06.504934",
     "status": "completed"
    },
    "tags": []
   },
   "source": [
    "### CatBoost Model\n",
    "\n",
    "The CatBoost Regressor is a specific implementation of the gradient boosting algorithm for regression problems. It works by building an ensemble of decision trees, where each tree is built to correct the errors made by the previous tree. The process continues until the specified number of trees (or the stopping criteria) is reached."
   ]
  },
  {
   "cell_type": "code",
   "execution_count": 35,
   "id": "54b67913",
   "metadata": {
    "execution": {
     "iopub.execute_input": "2023-02-24T17:05:06.582672Z",
     "iopub.status.busy": "2023-02-24T17:05:06.582221Z",
     "iopub.status.idle": "2023-02-24T17:05:06.587890Z",
     "shell.execute_reply": "2023-02-24T17:05:06.586763Z"
    },
    "papermill": {
     "duration": 0.03382,
     "end_time": "2023-02-24T17:05:06.590355",
     "exception": false,
     "start_time": "2023-02-24T17:05:06.556535",
     "status": "completed"
    },
    "tags": []
   },
   "outputs": [],
   "source": [
    "catboost = CatBoostRegressor(verbose=0)"
   ]
  },
  {
   "cell_type": "code",
   "execution_count": 36,
   "id": "06233cb2",
   "metadata": {
    "execution": {
     "iopub.execute_input": "2023-02-24T17:05:06.640962Z",
     "iopub.status.busy": "2023-02-24T17:05:06.640503Z",
     "iopub.status.idle": "2023-02-24T17:05:10.962787Z",
     "shell.execute_reply": "2023-02-24T17:05:10.961708Z"
    },
    "papermill": {
     "duration": 4.351327,
     "end_time": "2023-02-24T17:05:10.965778",
     "exception": false,
     "start_time": "2023-02-24T17:05:06.614451",
     "status": "completed"
    },
    "tags": []
   },
   "outputs": [
    {
     "data": {
      "text/plain": [
       "<catboost.core.CatBoostRegressor at 0x7f22a9b9ee50>"
      ]
     },
     "execution_count": 36,
     "metadata": {},
     "output_type": "execute_result"
    }
   ],
   "source": [
    "catboost.fit(train, log_target)"
   ]
  },
  {
   "cell_type": "markdown",
   "id": "cc9a0aaf",
   "metadata": {
    "papermill": {
     "duration": 0.02519,
     "end_time": "2023-02-24T17:05:11.015560",
     "exception": false,
     "start_time": "2023-02-24T17:05:10.990370",
     "status": "completed"
    },
    "tags": []
   },
   "source": [
    "### Evaluate"
   ]
  },
  {
   "cell_type": "markdown",
   "id": "f67e602e",
   "metadata": {
    "papermill": {
     "duration": 0.024213,
     "end_time": "2023-02-24T17:05:11.064139",
     "exception": false,
     "start_time": "2023-02-24T17:05:11.039926",
     "status": "completed"
    },
    "tags": []
   },
   "source": [
    "Rather than just using the given test set, we're going to use cross-validation to get various scores"
   ]
  },
  {
   "cell_type": "code",
   "execution_count": 37,
   "id": "74c2e2f9",
   "metadata": {
    "execution": {
     "iopub.execute_input": "2023-02-24T17:05:11.115188Z",
     "iopub.status.busy": "2023-02-24T17:05:11.114037Z",
     "iopub.status.idle": "2023-02-24T17:05:54.230654Z",
     "shell.execute_reply": "2023-02-24T17:05:54.229412Z"
    },
    "papermill": {
     "duration": 43.168397,
     "end_time": "2023-02-24T17:05:54.256846",
     "exception": false,
     "start_time": "2023-02-24T17:05:11.088449",
     "status": "completed"
    },
    "tags": []
   },
   "outputs": [
    {
     "data": {
      "text/plain": [
       "array([-0.01247261, -0.00969122, -0.01159004, -0.02368528, -0.02083857,\n",
       "       -0.01035088, -0.01504024, -0.00884408, -0.01732958, -0.01576759])"
      ]
     },
     "execution_count": 37,
     "metadata": {},
     "output_type": "execute_result"
    }
   ],
   "source": [
    "# Set the number of folds\n",
    "kf= KFold(n_splits=10)\n",
    "\n",
    "# Imput the information as shown in the following line\n",
    "# cross_val_score(model, data, target, scoring method, cross validation object)\n",
    "results = cross_val_score(catboost, train, log_target, scoring='neg_mean_squared_error', cv=kf)\n",
    "results"
   ]
  },
  {
   "cell_type": "markdown",
   "id": "cb6f5458",
   "metadata": {
    "papermill": {
     "duration": 0.024594,
     "end_time": "2023-02-24T17:05:54.305974",
     "exception": false,
     "start_time": "2023-02-24T17:05:54.281380",
     "status": "completed"
    },
    "tags": []
   },
   "source": [
    "We can get the average mean squared error:"
   ]
  },
  {
   "cell_type": "code",
   "execution_count": 38,
   "id": "12390fa9",
   "metadata": {
    "execution": {
     "iopub.execute_input": "2023-02-24T17:05:54.357028Z",
     "iopub.status.busy": "2023-02-24T17:05:54.356592Z",
     "iopub.status.idle": "2023-02-24T17:05:54.364522Z",
     "shell.execute_reply": "2023-02-24T17:05:54.362946Z"
    },
    "papermill": {
     "duration": 0.036533,
     "end_time": "2023-02-24T17:05:54.367151",
     "exception": false,
     "start_time": "2023-02-24T17:05:54.330618",
     "status": "completed"
    },
    "tags": []
   },
   "outputs": [
    {
     "data": {
      "text/plain": [
       "0.01456100847580293"
      ]
     },
     "execution_count": 38,
     "metadata": {},
     "output_type": "execute_result"
    }
   ],
   "source": [
    " np.mean(-results)"
   ]
  },
  {
   "cell_type": "markdown",
   "id": "0f662841",
   "metadata": {
    "papermill": {
     "duration": 0.024279,
     "end_time": "2023-02-24T17:05:54.416187",
     "exception": false,
     "start_time": "2023-02-24T17:05:54.391908",
     "status": "completed"
    },
    "tags": []
   },
   "source": [
    "Recall that we transformed our target variable. To make sense of this output, we need reverse that transformation. We also take the square root, since the error is squared."
   ]
  },
  {
   "cell_type": "code",
   "execution_count": 39,
   "id": "1c6c14bb",
   "metadata": {
    "execution": {
     "iopub.execute_input": "2023-02-24T17:05:54.468377Z",
     "iopub.status.busy": "2023-02-24T17:05:54.467564Z",
     "iopub.status.idle": "2023-02-24T17:05:54.473879Z",
     "shell.execute_reply": "2023-02-24T17:05:54.472624Z"
    },
    "papermill": {
     "duration": 0.035662,
     "end_time": "2023-02-24T17:05:54.476572",
     "exception": false,
     "start_time": "2023-02-24T17:05:54.440910",
     "status": "completed"
    },
    "tags": []
   },
   "outputs": [
    {
     "name": "stdout",
     "output_type": "stream",
     "text": [
      "Average error is: 1.128251403617856\n"
     ]
    }
   ],
   "source": [
    "avg_error = np.exp(np.sqrt(np.mean(-results)))\n",
    "print('Average error is:',avg_error)"
   ]
  },
  {
   "cell_type": "markdown",
   "id": "a876b71e",
   "metadata": {
    "papermill": {
     "duration": 0.024374,
     "end_time": "2023-02-24T17:05:54.525590",
     "exception": false,
     "start_time": "2023-02-24T17:05:54.501216",
     "status": "completed"
    },
    "tags": []
   },
   "source": [
    "This error is exceptionally low, so we can create predictions using the test data to submit to see accurate our results are."
   ]
  },
  {
   "cell_type": "markdown",
   "id": "c38ed586",
   "metadata": {
    "papermill": {
     "duration": 0.025006,
     "end_time": "2023-02-24T17:05:54.575282",
     "exception": false,
     "start_time": "2023-02-24T17:05:54.550276",
     "status": "completed"
    },
    "tags": []
   },
   "source": [
    "### Predictions"
   ]
  },
  {
   "cell_type": "code",
   "execution_count": 40,
   "id": "a765a741",
   "metadata": {
    "execution": {
     "iopub.execute_input": "2023-02-24T17:05:54.627045Z",
     "iopub.status.busy": "2023-02-24T17:05:54.626642Z",
     "iopub.status.idle": "2023-02-24T17:05:54.668603Z",
     "shell.execute_reply": "2023-02-24T17:05:54.667332Z"
    },
    "papermill": {
     "duration": 0.071751,
     "end_time": "2023-02-24T17:05:54.671747",
     "exception": false,
     "start_time": "2023-02-24T17:05:54.599996",
     "status": "completed"
    },
    "tags": []
   },
   "outputs": [],
   "source": [
    "#Exponentiate the predictions to get the correct values\n",
    "cb_predictions = np.exp(catboost.predict(test))\n",
    "\n",
    "#Combine the test IDs\n",
    "catboost_predictions = pd.concat([test_ids, pd.Series(cb_predictions, name= 'SalePrice')], axis=1)"
   ]
  },
  {
   "cell_type": "code",
   "execution_count": 41,
   "id": "9dbba876",
   "metadata": {
    "execution": {
     "iopub.execute_input": "2023-02-24T17:05:54.725534Z",
     "iopub.status.busy": "2023-02-24T17:05:54.725074Z",
     "iopub.status.idle": "2023-02-24T17:05:54.740153Z",
     "shell.execute_reply": "2023-02-24T17:05:54.738699Z"
    },
    "papermill": {
     "duration": 0.046152,
     "end_time": "2023-02-24T17:05:54.743246",
     "exception": false,
     "start_time": "2023-02-24T17:05:54.697094",
     "status": "completed"
    },
    "tags": []
   },
   "outputs": [
    {
     "data": {
      "text/html": [
       "<div>\n",
       "<style scoped>\n",
       "    .dataframe tbody tr th:only-of-type {\n",
       "        vertical-align: middle;\n",
       "    }\n",
       "\n",
       "    .dataframe tbody tr th {\n",
       "        vertical-align: top;\n",
       "    }\n",
       "\n",
       "    .dataframe thead th {\n",
       "        text-align: right;\n",
       "    }\n",
       "</style>\n",
       "<table border=\"1\" class=\"dataframe\">\n",
       "  <thead>\n",
       "    <tr style=\"text-align: right;\">\n",
       "      <th></th>\n",
       "      <th>Id</th>\n",
       "      <th>SalePrice</th>\n",
       "    </tr>\n",
       "  </thead>\n",
       "  <tbody>\n",
       "    <tr>\n",
       "      <th>0</th>\n",
       "      <td>1461</td>\n",
       "      <td>126235.624081</td>\n",
       "    </tr>\n",
       "    <tr>\n",
       "      <th>1</th>\n",
       "      <td>1462</td>\n",
       "      <td>160393.632584</td>\n",
       "    </tr>\n",
       "    <tr>\n",
       "      <th>2</th>\n",
       "      <td>1463</td>\n",
       "      <td>192236.900613</td>\n",
       "    </tr>\n",
       "    <tr>\n",
       "      <th>3</th>\n",
       "      <td>1464</td>\n",
       "      <td>191009.746036</td>\n",
       "    </tr>\n",
       "    <tr>\n",
       "      <th>4</th>\n",
       "      <td>1465</td>\n",
       "      <td>181729.168532</td>\n",
       "    </tr>\n",
       "    <tr>\n",
       "      <th>...</th>\n",
       "      <td>...</td>\n",
       "      <td>...</td>\n",
       "    </tr>\n",
       "    <tr>\n",
       "      <th>1454</th>\n",
       "      <td>2915</td>\n",
       "      <td>79008.562114</td>\n",
       "    </tr>\n",
       "    <tr>\n",
       "      <th>1455</th>\n",
       "      <td>2916</td>\n",
       "      <td>79853.809820</td>\n",
       "    </tr>\n",
       "    <tr>\n",
       "      <th>1456</th>\n",
       "      <td>2917</td>\n",
       "      <td>168304.847271</td>\n",
       "    </tr>\n",
       "    <tr>\n",
       "      <th>1457</th>\n",
       "      <td>2918</td>\n",
       "      <td>112870.653153</td>\n",
       "    </tr>\n",
       "    <tr>\n",
       "      <th>1458</th>\n",
       "      <td>2919</td>\n",
       "      <td>219037.375568</td>\n",
       "    </tr>\n",
       "  </tbody>\n",
       "</table>\n",
       "<p>1459 rows × 2 columns</p>\n",
       "</div>"
      ],
      "text/plain": [
       "        Id      SalePrice\n",
       "0     1461  126235.624081\n",
       "1     1462  160393.632584\n",
       "2     1463  192236.900613\n",
       "3     1464  191009.746036\n",
       "4     1465  181729.168532\n",
       "...    ...            ...\n",
       "1454  2915   79008.562114\n",
       "1455  2916   79853.809820\n",
       "1456  2917  168304.847271\n",
       "1457  2918  112870.653153\n",
       "1458  2919  219037.375568\n",
       "\n",
       "[1459 rows x 2 columns]"
      ]
     },
     "execution_count": 41,
     "metadata": {},
     "output_type": "execute_result"
    }
   ],
   "source": [
    "catboost_predictions"
   ]
  },
  {
   "cell_type": "markdown",
   "id": "cc1244d0",
   "metadata": {
    "papermill": {
     "duration": 0.025381,
     "end_time": "2023-02-24T17:05:54.793890",
     "exception": false,
     "start_time": "2023-02-24T17:05:54.768509",
     "status": "completed"
    },
    "tags": []
   },
   "source": [
    "# Ensembling"
   ]
  },
  {
   "cell_type": "markdown",
   "id": "68fe9252",
   "metadata": {
    "papermill": {
     "duration": 0.025431,
     "end_time": "2023-02-24T17:05:54.845096",
     "exception": false,
     "start_time": "2023-02-24T17:05:54.819665",
     "status": "completed"
    },
    "tags": []
   },
   "source": [
    "Rather than rely on a single model, we can combine models to improve our predictions. This technique is known as ensembling. Here I'll use the top 5 models from the comparision we did earlier."
   ]
  },
  {
   "cell_type": "markdown",
   "id": "0d33ed66",
   "metadata": {
    "papermill": {
     "duration": 0.025031,
     "end_time": "2023-02-24T17:05:54.895341",
     "exception": false,
     "start_time": "2023-02-24T17:05:54.870310",
     "status": "completed"
    },
    "tags": []
   },
   "source": [
    "### Train the models"
   ]
  },
  {
   "cell_type": "code",
   "execution_count": 42,
   "id": "751d116e",
   "metadata": {
    "execution": {
     "iopub.execute_input": "2023-02-24T17:05:54.949816Z",
     "iopub.status.busy": "2023-02-24T17:05:54.949365Z",
     "iopub.status.idle": "2023-02-24T17:06:05.353896Z",
     "shell.execute_reply": "2023-02-24T17:06:05.352849Z"
    },
    "papermill": {
     "duration": 10.434555,
     "end_time": "2023-02-24T17:06:05.356643",
     "exception": false,
     "start_time": "2023-02-24T17:05:54.922088",
     "status": "completed"
    },
    "tags": []
   },
   "outputs": [
    {
     "name": "stdout",
     "output_type": "stream",
     "text": [
      "Fitting CatBoost...complete.\n",
      "Fitting Bayesian Ridge...complete.\n",
      "Fitting Orthogonal Matching Pursuit...complete.\n",
      "Fitting Gradient Boosting Regressor...complete.\n",
      "Fitting Random Forest Regressor...complete.\n"
     ]
    }
   ],
   "source": [
    "#Dictionary containing the desired models\n",
    "\n",
    "models = {\n",
    "    'CatBoost': CatBoostRegressor(verbose=0),\n",
    "    'Bayesian Ridge': BayesianRidge(),\n",
    "    'Orthogonal Matching Pursuit': OrthogonalMatchingPursuit(),\n",
    "    'Gradient Boosting Regressor': GradientBoostingRegressor(),\n",
    "    'Random Forest Regressor': RandomForestRegressor()\n",
    "}\n",
    "\n",
    "for name, model in models.items():\n",
    "    print(f'Fitting {name}...complete.')\n",
    "    model.fit(train, log_target)"
   ]
  },
  {
   "cell_type": "markdown",
   "id": "8bc017e1",
   "metadata": {
    "papermill": {
     "duration": 0.025041,
     "end_time": "2023-02-24T17:06:05.407066",
     "exception": false,
     "start_time": "2023-02-24T17:06:05.382025",
     "status": "completed"
    },
    "tags": []
   },
   "source": [
    "### Results"
   ]
  },
  {
   "cell_type": "code",
   "execution_count": 43,
   "id": "01841b00",
   "metadata": {
    "execution": {
     "iopub.execute_input": "2023-02-24T17:06:05.460964Z",
     "iopub.status.busy": "2023-02-24T17:06:05.460230Z",
     "iopub.status.idle": "2023-02-24T17:07:40.249949Z",
     "shell.execute_reply": "2023-02-24T17:07:40.248566Z"
    },
    "papermill": {
     "duration": 94.820566,
     "end_time": "2023-02-24T17:07:40.252916",
     "exception": false,
     "start_time": "2023-02-24T17:06:05.432350",
     "status": "completed"
    },
    "tags": []
   },
   "outputs": [],
   "source": [
    "results = {}\n",
    "\n",
    "kf = KFold(n_splits=10)\n",
    "\n",
    "for name, model in models.items():\n",
    "    result = np.exp(np.sqrt(-cross_val_score(model, train, log_target, scoring='neg_mean_squared_error', cv=kf)))\n",
    "    results[name] = result"
   ]
  },
  {
   "cell_type": "markdown",
   "id": "d64ee798",
   "metadata": {
    "papermill": {
     "duration": 0.024695,
     "end_time": "2023-02-24T17:07:40.303321",
     "exception": false,
     "start_time": "2023-02-24T17:07:40.278626",
     "status": "completed"
    },
    "tags": []
   },
   "source": [
    "We can print out the results and compare the mean error and stardard deviation."
   ]
  },
  {
   "cell_type": "code",
   "execution_count": 44,
   "id": "0f4c3357",
   "metadata": {
    "execution": {
     "iopub.execute_input": "2023-02-24T17:07:40.357458Z",
     "iopub.status.busy": "2023-02-24T17:07:40.356258Z",
     "iopub.status.idle": "2023-02-24T17:07:40.362943Z",
     "shell.execute_reply": "2023-02-24T17:07:40.362131Z"
    },
    "papermill": {
     "duration": 0.036666,
     "end_time": "2023-02-24T17:07:40.365208",
     "exception": false,
     "start_time": "2023-02-24T17:07:40.328542",
     "status": "completed"
    },
    "tags": []
   },
   "outputs": [
    {
     "name": "stdout",
     "output_type": "stream",
     "text": [
      "----------\n",
      "CatBoost\n",
      "1.1267614531317314\n",
      "0.021469016253641365\n",
      "----------\n",
      "Bayesian Ridge\n",
      "1.1464675247453804\n",
      "0.036429510460016044\n",
      "----------\n",
      "Orthogonal Matching Pursuit\n",
      "1.1463484738388179\n",
      "0.04609626548354265\n",
      "----------\n",
      "Gradient Boosting Regressor\n",
      "1.1348801869019653\n",
      "0.02002036578660135\n",
      "----------\n",
      "Random Forest Regressor\n",
      "1.151893408120316\n",
      "0.022043639036058823\n"
     ]
    }
   ],
   "source": [
    "for name, result in results.items():\n",
    "    print(\"----------\\n\" + name) #creates a seperator between models\n",
    "    print(np.mean(result)) #mean error across all folds\n",
    "    print(np.std(result)) #standard deviation"
   ]
  },
  {
   "cell_type": "markdown",
   "id": "4749f1a5",
   "metadata": {
    "papermill": {
     "duration": 0.024589,
     "end_time": "2023-02-24T17:07:40.415406",
     "exception": false,
     "start_time": "2023-02-24T17:07:40.390817",
     "status": "completed"
    },
    "tags": []
   },
   "source": [
    "# Combine Predictions"
   ]
  },
  {
   "cell_type": "markdown",
   "id": "d9bfcd35",
   "metadata": {
    "papermill": {
     "duration": 0.024408,
     "end_time": "2023-02-24T17:07:40.464683",
     "exception": false,
     "start_time": "2023-02-24T17:07:40.440275",
     "status": "completed"
    },
    "tags": []
   },
   "source": [
    "After seeing that all the models performed well is the previous step, we can combine the estimates to get our final predictions.\n",
    "\n",
    "Depending on the performance of the models, you can choose to assign different weights to each model. Here, I've chosen to give the most weight (40%) to the best performing model (CatBoost). Keep in mind that the weights need to add up to 1 (100%).\n",
    "\n",
    "You'll also notice that, as before, we have to exponentiate the results to get them into the proper units. "
   ]
  },
  {
   "cell_type": "code",
   "execution_count": 45,
   "id": "1522c12a",
   "metadata": {
    "execution": {
     "iopub.execute_input": "2023-02-24T17:07:40.516517Z",
     "iopub.status.busy": "2023-02-24T17:07:40.516067Z",
     "iopub.status.idle": "2023-02-24T17:07:40.670155Z",
     "shell.execute_reply": "2023-02-24T17:07:40.668501Z"
    },
    "papermill": {
     "duration": 0.185278,
     "end_time": "2023-02-24T17:07:40.674710",
     "exception": false,
     "start_time": "2023-02-24T17:07:40.489432",
     "status": "completed"
    },
    "tags": []
   },
   "outputs": [],
   "source": [
    "combined_predictions = (\n",
    "    0.4 * np.exp(models['CatBoost'].predict(test)) +\n",
    "    0.2 * np.exp(models['Bayesian Ridge'].predict(test)) +\n",
    "    0.2 * np.exp(models['Orthogonal Matching Pursuit'].predict(test)) +\n",
    "    0.1 * np.exp(models['Gradient Boosting Regressor'].predict(test)) +\n",
    "    0.1 * np.exp(models['Random Forest Regressor'].predict(test))\n",
    ")"
   ]
  },
  {
   "cell_type": "code",
   "execution_count": 46,
   "id": "f806cb97",
   "metadata": {
    "execution": {
     "iopub.execute_input": "2023-02-24T17:07:40.728101Z",
     "iopub.status.busy": "2023-02-24T17:07:40.727390Z",
     "iopub.status.idle": "2023-02-24T17:07:40.734446Z",
     "shell.execute_reply": "2023-02-24T17:07:40.733325Z"
    },
    "papermill": {
     "duration": 0.035868,
     "end_time": "2023-02-24T17:07:40.736691",
     "exception": false,
     "start_time": "2023-02-24T17:07:40.700823",
     "status": "completed"
    },
    "tags": []
   },
   "outputs": [],
   "source": [
    "# Combine the test IDs\n",
    "submission = pd.concat([test_ids, pd.Series(combined_predictions, name= 'SalePrice')], axis=1)"
   ]
  },
  {
   "cell_type": "code",
   "execution_count": 47,
   "id": "f7d6aa49",
   "metadata": {
    "execution": {
     "iopub.execute_input": "2023-02-24T17:07:40.788580Z",
     "iopub.status.busy": "2023-02-24T17:07:40.788141Z",
     "iopub.status.idle": "2023-02-24T17:07:40.800315Z",
     "shell.execute_reply": "2023-02-24T17:07:40.799353Z"
    },
    "papermill": {
     "duration": 0.041234,
     "end_time": "2023-02-24T17:07:40.803018",
     "exception": false,
     "start_time": "2023-02-24T17:07:40.761784",
     "status": "completed"
    },
    "tags": []
   },
   "outputs": [],
   "source": [
    "# Create the submission file\n",
    "submission.to_csv('/kaggle/working/submission.csv', index=False, header=True)"
   ]
  },
  {
   "cell_type": "code",
   "execution_count": null,
   "id": "28ff684f",
   "metadata": {
    "papermill": {
     "duration": 0.024708,
     "end_time": "2023-02-24T17:07:40.853092",
     "exception": false,
     "start_time": "2023-02-24T17:07:40.828384",
     "status": "completed"
    },
    "tags": []
   },
   "outputs": [],
   "source": []
  }
 ],
 "metadata": {
  "kernelspec": {
   "display_name": "Python 3",
   "language": "python",
   "name": "python3"
  },
  "language_info": {
   "codemirror_mode": {
    "name": "ipython",
    "version": 3
   },
   "file_extension": ".py",
   "mimetype": "text/x-python",
   "name": "python",
   "nbconvert_exporter": "python",
   "pygments_lexer": "ipython3",
   "version": "3.7.12"
  },
  "papermill": {
   "default_parameters": {},
   "duration": 402.359933,
   "end_time": "2023-02-24T17:07:43.503836",
   "environment_variables": {},
   "exception": null,
   "input_path": "__notebook__.ipynb",
   "output_path": "__notebook__.ipynb",
   "parameters": {},
   "start_time": "2023-02-24T17:01:01.143903",
   "version": "2.3.4"
  },
  "widgets": {
   "application/vnd.jupyter.widget-state+json": {
    "state": {
     "387b87b9eee2474e8b654e2ca99e2908": {
      "model_module": "@jupyter-widgets/base",
      "model_module_version": "1.2.0",
      "model_name": "LayoutModel",
      "state": {
       "_model_module": "@jupyter-widgets/base",
       "_model_module_version": "1.2.0",
       "_model_name": "LayoutModel",
       "_view_count": null,
       "_view_module": "@jupyter-widgets/base",
       "_view_module_version": "1.2.0",
       "_view_name": "LayoutView",
       "align_content": null,
       "align_items": null,
       "align_self": null,
       "border": null,
       "bottom": null,
       "display": null,
       "flex": null,
       "flex_flow": null,
       "grid_area": null,
       "grid_auto_columns": null,
       "grid_auto_flow": null,
       "grid_auto_rows": null,
       "grid_column": null,
       "grid_gap": null,
       "grid_row": null,
       "grid_template_areas": null,
       "grid_template_columns": null,
       "grid_template_rows": null,
       "height": null,
       "justify_content": null,
       "justify_items": null,
       "left": null,
       "margin": null,
       "max_height": null,
       "max_width": null,
       "min_height": null,
       "min_width": null,
       "object_fit": null,
       "object_position": null,
       "order": null,
       "overflow": null,
       "overflow_x": null,
       "overflow_y": null,
       "padding": null,
       "right": null,
       "top": null,
       "visibility": null,
       "width": null
      }
     },
     "3c854f26bd2247d4a9a7279264c2b27a": {
      "model_module": "@jupyter-widgets/controls",
      "model_module_version": "1.5.0",
      "model_name": "HTMLModel",
      "state": {
       "_dom_classes": [],
       "_model_module": "@jupyter-widgets/controls",
       "_model_module_version": "1.5.0",
       "_model_name": "HTMLModel",
       "_view_count": null,
       "_view_module": "@jupyter-widgets/controls",
       "_view_module_version": "1.5.0",
       "_view_name": "HTMLView",
       "description": "",
       "description_tooltip": null,
       "layout": "IPY_MODEL_8a389fc73de64202a60045186b55c5a9",
       "placeholder": "​",
       "style": "IPY_MODEL_cff6697bb7994febbb8c7adddea9e8f4",
       "value": " 85/85 [02:24&lt;00:00,  3.28s/it]"
      }
     },
     "66b6345c298b490991c2e94147250e07": {
      "model_module": "@jupyter-widgets/controls",
      "model_module_version": "1.5.0",
      "model_name": "HTMLModel",
      "state": {
       "_dom_classes": [],
       "_model_module": "@jupyter-widgets/controls",
       "_model_module_version": "1.5.0",
       "_model_name": "HTMLModel",
       "_view_count": null,
       "_view_module": "@jupyter-widgets/controls",
       "_view_module_version": "1.5.0",
       "_view_name": "HTMLView",
       "description": "",
       "description_tooltip": null,
       "layout": "IPY_MODEL_387b87b9eee2474e8b654e2ca99e2908",
       "placeholder": "​",
       "style": "IPY_MODEL_8275ee153e32427ba4875bde5a2fb184",
       "value": "Processing: 100%"
      }
     },
     "69558f53a8cf4a8bb0e7119ba7421178": {
      "model_module": "@jupyter-widgets/base",
      "model_module_version": "1.2.0",
      "model_name": "LayoutModel",
      "state": {
       "_model_module": "@jupyter-widgets/base",
       "_model_module_version": "1.2.0",
       "_model_name": "LayoutModel",
       "_view_count": null,
       "_view_module": "@jupyter-widgets/base",
       "_view_module_version": "1.2.0",
       "_view_name": "LayoutView",
       "align_content": null,
       "align_items": null,
       "align_self": null,
       "border": null,
       "bottom": null,
       "display": null,
       "flex": null,
       "flex_flow": null,
       "grid_area": null,
       "grid_auto_columns": null,
       "grid_auto_flow": null,
       "grid_auto_rows": null,
       "grid_column": null,
       "grid_gap": null,
       "grid_row": null,
       "grid_template_areas": null,
       "grid_template_columns": null,
       "grid_template_rows": null,
       "height": null,
       "justify_content": null,
       "justify_items": null,
       "left": null,
       "margin": null,
       "max_height": null,
       "max_width": null,
       "min_height": null,
       "min_width": null,
       "object_fit": null,
       "object_position": null,
       "order": null,
       "overflow": null,
       "overflow_x": null,
       "overflow_y": null,
       "padding": null,
       "right": null,
       "top": null,
       "visibility": "hidden",
       "width": null
      }
     },
     "8275ee153e32427ba4875bde5a2fb184": {
      "model_module": "@jupyter-widgets/controls",
      "model_module_version": "1.5.0",
      "model_name": "DescriptionStyleModel",
      "state": {
       "_model_module": "@jupyter-widgets/controls",
       "_model_module_version": "1.5.0",
       "_model_name": "DescriptionStyleModel",
       "_view_count": null,
       "_view_module": "@jupyter-widgets/base",
       "_view_module_version": "1.2.0",
       "_view_name": "StyleView",
       "description_width": ""
      }
     },
     "86144c8f4e714e2e8740edab7597ceb5": {
      "model_module": "@jupyter-widgets/controls",
      "model_module_version": "1.5.0",
      "model_name": "ProgressStyleModel",
      "state": {
       "_model_module": "@jupyter-widgets/controls",
       "_model_module_version": "1.5.0",
       "_model_name": "ProgressStyleModel",
       "_view_count": null,
       "_view_module": "@jupyter-widgets/base",
       "_view_module_version": "1.2.0",
       "_view_name": "StyleView",
       "bar_color": null,
       "description_width": ""
      }
     },
     "8a389fc73de64202a60045186b55c5a9": {
      "model_module": "@jupyter-widgets/base",
      "model_module_version": "1.2.0",
      "model_name": "LayoutModel",
      "state": {
       "_model_module": "@jupyter-widgets/base",
       "_model_module_version": "1.2.0",
       "_model_name": "LayoutModel",
       "_view_count": null,
       "_view_module": "@jupyter-widgets/base",
       "_view_module_version": "1.2.0",
       "_view_name": "LayoutView",
       "align_content": null,
       "align_items": null,
       "align_self": null,
       "border": null,
       "bottom": null,
       "display": null,
       "flex": null,
       "flex_flow": null,
       "grid_area": null,
       "grid_auto_columns": null,
       "grid_auto_flow": null,
       "grid_auto_rows": null,
       "grid_column": null,
       "grid_gap": null,
       "grid_row": null,
       "grid_template_areas": null,
       "grid_template_columns": null,
       "grid_template_rows": null,
       "height": null,
       "justify_content": null,
       "justify_items": null,
       "left": null,
       "margin": null,
       "max_height": null,
       "max_width": null,
       "min_height": null,
       "min_width": null,
       "object_fit": null,
       "object_position": null,
       "order": null,
       "overflow": null,
       "overflow_x": null,
       "overflow_y": null,
       "padding": null,
       "right": null,
       "top": null,
       "visibility": null,
       "width": null
      }
     },
     "cff6697bb7994febbb8c7adddea9e8f4": {
      "model_module": "@jupyter-widgets/controls",
      "model_module_version": "1.5.0",
      "model_name": "DescriptionStyleModel",
      "state": {
       "_model_module": "@jupyter-widgets/controls",
       "_model_module_version": "1.5.0",
       "_model_name": "DescriptionStyleModel",
       "_view_count": null,
       "_view_module": "@jupyter-widgets/base",
       "_view_module_version": "1.2.0",
       "_view_name": "StyleView",
       "description_width": ""
      }
     },
     "d42202e6b77a4e19b58259082ac64a61": {
      "model_module": "@jupyter-widgets/controls",
      "model_module_version": "1.5.0",
      "model_name": "FloatProgressModel",
      "state": {
       "_dom_classes": [],
       "_model_module": "@jupyter-widgets/controls",
       "_model_module_version": "1.5.0",
       "_model_name": "FloatProgressModel",
       "_view_count": null,
       "_view_module": "@jupyter-widgets/controls",
       "_view_module_version": "1.5.0",
       "_view_name": "ProgressView",
       "bar_style": "",
       "description": "",
       "description_tooltip": null,
       "layout": "IPY_MODEL_f0e95ea96c87489eaaa5c87600f3de86",
       "max": 85.0,
       "min": 0.0,
       "orientation": "horizontal",
       "style": "IPY_MODEL_86144c8f4e714e2e8740edab7597ceb5",
       "value": 85.0
      }
     },
     "e1a1a1e9c8b049bc8a7b4027361a4105": {
      "model_module": "@jupyter-widgets/controls",
      "model_module_version": "1.5.0",
      "model_name": "HBoxModel",
      "state": {
       "_dom_classes": [],
       "_model_module": "@jupyter-widgets/controls",
       "_model_module_version": "1.5.0",
       "_model_name": "HBoxModel",
       "_view_count": null,
       "_view_module": "@jupyter-widgets/controls",
       "_view_module_version": "1.5.0",
       "_view_name": "HBoxView",
       "box_style": "",
       "children": [
        "IPY_MODEL_66b6345c298b490991c2e94147250e07",
        "IPY_MODEL_d42202e6b77a4e19b58259082ac64a61",
        "IPY_MODEL_3c854f26bd2247d4a9a7279264c2b27a"
       ],
       "layout": "IPY_MODEL_69558f53a8cf4a8bb0e7119ba7421178"
      }
     },
     "f0e95ea96c87489eaaa5c87600f3de86": {
      "model_module": "@jupyter-widgets/base",
      "model_module_version": "1.2.0",
      "model_name": "LayoutModel",
      "state": {
       "_model_module": "@jupyter-widgets/base",
       "_model_module_version": "1.2.0",
       "_model_name": "LayoutModel",
       "_view_count": null,
       "_view_module": "@jupyter-widgets/base",
       "_view_module_version": "1.2.0",
       "_view_name": "LayoutView",
       "align_content": null,
       "align_items": null,
       "align_self": null,
       "border": null,
       "bottom": null,
       "display": null,
       "flex": null,
       "flex_flow": null,
       "grid_area": null,
       "grid_auto_columns": null,
       "grid_auto_flow": null,
       "grid_auto_rows": null,
       "grid_column": null,
       "grid_gap": null,
       "grid_row": null,
       "grid_template_areas": null,
       "grid_template_columns": null,
       "grid_template_rows": null,
       "height": null,
       "justify_content": null,
       "justify_items": null,
       "left": null,
       "margin": null,
       "max_height": null,
       "max_width": null,
       "min_height": null,
       "min_width": null,
       "object_fit": null,
       "object_position": null,
       "order": null,
       "overflow": null,
       "overflow_x": null,
       "overflow_y": null,
       "padding": null,
       "right": null,
       "top": null,
       "visibility": null,
       "width": null
      }
     }
    },
    "version_major": 2,
    "version_minor": 0
   }
  }
 },
 "nbformat": 4,
 "nbformat_minor": 5
}
